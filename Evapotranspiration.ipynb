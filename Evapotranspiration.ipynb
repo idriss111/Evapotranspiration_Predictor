{
 "cells": [
  {
   "cell_type": "code",
   "execution_count": 22,
   "id": "6ab34516",
   "metadata": {},
   "outputs": [],
   "source": [
    "import matplotlib.pyplot  as plt\n",
    "import numpy as np\n",
    "import pandas as pd\n",
    "from sklearn.model_selection import train_test_split\n",
    "from sklearn import preprocessing"
   ]
  },
  {
   "cell_type": "code",
   "execution_count": 23,
   "id": "ccc328f1",
   "metadata": {},
   "outputs": [],
   "source": [
    "df = pd.read_csv('DataET.csv',delimiter=';',decimal=',')"
   ]
  },
  {
   "cell_type": "code",
   "execution_count": 24,
   "id": "0b79ed61",
   "metadata": {},
   "outputs": [
    {
     "data": {
      "text/html": [
       "<div>\n",
       "<style scoped>\n",
       "    .dataframe tbody tr th:only-of-type {\n",
       "        vertical-align: middle;\n",
       "    }\n",
       "\n",
       "    .dataframe tbody tr th {\n",
       "        vertical-align: top;\n",
       "    }\n",
       "\n",
       "    .dataframe thead th {\n",
       "        text-align: right;\n",
       "    }\n",
       "</style>\n",
       "<table border=\"1\" class=\"dataframe\">\n",
       "  <thead>\n",
       "    <tr style=\"text-align: right;\">\n",
       "      <th></th>\n",
       "      <th>moy_Temp[°C]</th>\n",
       "      <th>max_Temp[°C]</th>\n",
       "      <th>min_Temp[°C]</th>\n",
       "      <th>moy_DewPoint[°C]</th>\n",
       "      <th>min_DewPoint[°C]</th>\n",
       "      <th>moy_SolarRadiation[W/m2]</th>\n",
       "      <th>moy_VPD[kPa]</th>\n",
       "      <th>min_VPD[kPa]</th>\n",
       "      <th>moy_RelativeHumidity[%]</th>\n",
       "      <th>max_RelativeHumidity[%]</th>\n",
       "      <th>min_RelativeHumidity[%]</th>\n",
       "      <th>Somme_Precipitation[mm]</th>\n",
       "      <th>moy_WindSpeed[m/s]</th>\n",
       "      <th>max_WindSpeed[m/s]</th>\n",
       "      <th>max_WindSpeedMax[m/s]</th>\n",
       "      <th>moy_WindDirection[deg]</th>\n",
       "      <th>dernier_WindDirection[deg]</th>\n",
       "      <th>ETP quotidien [mm]</th>\n",
       "    </tr>\n",
       "  </thead>\n",
       "  <tbody>\n",
       "    <tr>\n",
       "      <th>count</th>\n",
       "      <td>1781.000000</td>\n",
       "      <td>1781.000000</td>\n",
       "      <td>1781.000000</td>\n",
       "      <td>1781.000000</td>\n",
       "      <td>1781.000000</td>\n",
       "      <td>1781.000000</td>\n",
       "      <td>1781.000000</td>\n",
       "      <td>1781.000000</td>\n",
       "      <td>1781.000000</td>\n",
       "      <td>1781.000000</td>\n",
       "      <td>1781.000000</td>\n",
       "      <td>1781.000000</td>\n",
       "      <td>1779.000000</td>\n",
       "      <td>1779.000000</td>\n",
       "      <td>1678.000000</td>\n",
       "      <td>2.000000</td>\n",
       "      <td>2.000000</td>\n",
       "      <td>1775.000000</td>\n",
       "    </tr>\n",
       "    <tr>\n",
       "      <th>mean</th>\n",
       "      <td>16.939517</td>\n",
       "      <td>25.120180</td>\n",
       "      <td>9.761179</td>\n",
       "      <td>9.210387</td>\n",
       "      <td>5.344189</td>\n",
       "      <td>197.886581</td>\n",
       "      <td>0.960253</td>\n",
       "      <td>0.153195</td>\n",
       "      <td>67.806232</td>\n",
       "      <td>91.373459</td>\n",
       "      <td>37.227434</td>\n",
       "      <td>0.998877</td>\n",
       "      <td>0.732546</td>\n",
       "      <td>2.322147</td>\n",
       "      <td>5.263349</td>\n",
       "      <td>263.500000</td>\n",
       "      <td>263.500000</td>\n",
       "      <td>3.022535</td>\n",
       "    </tr>\n",
       "    <tr>\n",
       "      <th>std</th>\n",
       "      <td>6.566283</td>\n",
       "      <td>7.797027</td>\n",
       "      <td>5.659706</td>\n",
       "      <td>4.369451</td>\n",
       "      <td>5.031990</td>\n",
       "      <td>82.742076</td>\n",
       "      <td>0.861440</td>\n",
       "      <td>0.306527</td>\n",
       "      <td>18.004065</td>\n",
       "      <td>13.681167</td>\n",
       "      <td>17.878867</td>\n",
       "      <td>3.328002</td>\n",
       "      <td>0.344445</td>\n",
       "      <td>0.746257</td>\n",
       "      <td>1.893481</td>\n",
       "      <td>50.204581</td>\n",
       "      <td>50.204581</td>\n",
       "      <td>1.643411</td>\n",
       "    </tr>\n",
       "    <tr>\n",
       "      <th>min</th>\n",
       "      <td>3.110000</td>\n",
       "      <td>5.640000</td>\n",
       "      <td>-3.980000</td>\n",
       "      <td>-5.700000</td>\n",
       "      <td>-14.700000</td>\n",
       "      <td>0.000000</td>\n",
       "      <td>0.000000</td>\n",
       "      <td>0.000000</td>\n",
       "      <td>15.570000</td>\n",
       "      <td>32.730000</td>\n",
       "      <td>3.340000</td>\n",
       "      <td>0.000000</td>\n",
       "      <td>0.000000</td>\n",
       "      <td>0.000000</td>\n",
       "      <td>1.400000</td>\n",
       "      <td>228.000000</td>\n",
       "      <td>228.000000</td>\n",
       "      <td>0.500000</td>\n",
       "    </tr>\n",
       "    <tr>\n",
       "      <th>25%</th>\n",
       "      <td>11.620000</td>\n",
       "      <td>18.720000</td>\n",
       "      <td>5.240000</td>\n",
       "      <td>6.400000</td>\n",
       "      <td>1.900000</td>\n",
       "      <td>131.000000</td>\n",
       "      <td>0.310000</td>\n",
       "      <td>0.000000</td>\n",
       "      <td>55.730000</td>\n",
       "      <td>88.360000</td>\n",
       "      <td>23.960000</td>\n",
       "      <td>0.000000</td>\n",
       "      <td>0.500000</td>\n",
       "      <td>1.800000</td>\n",
       "      <td>4.100000</td>\n",
       "      <td>245.750000</td>\n",
       "      <td>245.750000</td>\n",
       "      <td>1.450000</td>\n",
       "    </tr>\n",
       "    <tr>\n",
       "      <th>50%</th>\n",
       "      <td>16.170000</td>\n",
       "      <td>24.490000</td>\n",
       "      <td>9.400000</td>\n",
       "      <td>9.400000</td>\n",
       "      <td>5.500000</td>\n",
       "      <td>194.000000</td>\n",
       "      <td>0.700000</td>\n",
       "      <td>0.010000</td>\n",
       "      <td>70.070000</td>\n",
       "      <td>99.210000</td>\n",
       "      <td>34.850000</td>\n",
       "      <td>0.000000</td>\n",
       "      <td>0.700000</td>\n",
       "      <td>2.200000</td>\n",
       "      <td>4.900000</td>\n",
       "      <td>263.500000</td>\n",
       "      <td>263.500000</td>\n",
       "      <td>2.800000</td>\n",
       "    </tr>\n",
       "    <tr>\n",
       "      <th>75%</th>\n",
       "      <td>22.150000</td>\n",
       "      <td>31.170000</td>\n",
       "      <td>14.020000</td>\n",
       "      <td>12.600000</td>\n",
       "      <td>9.100000</td>\n",
       "      <td>271.000000</td>\n",
       "      <td>1.360000</td>\n",
       "      <td>0.150000</td>\n",
       "      <td>82.150000</td>\n",
       "      <td>99.340000</td>\n",
       "      <td>48.180000</td>\n",
       "      <td>0.200000</td>\n",
       "      <td>0.800000</td>\n",
       "      <td>2.600000</td>\n",
       "      <td>5.900000</td>\n",
       "      <td>281.250000</td>\n",
       "      <td>281.250000</td>\n",
       "      <td>4.550000</td>\n",
       "    </tr>\n",
       "    <tr>\n",
       "      <th>max</th>\n",
       "      <td>35.140000</td>\n",
       "      <td>47.340000</td>\n",
       "      <td>27.850000</td>\n",
       "      <td>20.800000</td>\n",
       "      <td>19.900000</td>\n",
       "      <td>361.000000</td>\n",
       "      <td>5.120000</td>\n",
       "      <td>2.480000</td>\n",
       "      <td>99.470000</td>\n",
       "      <td>99.780000</td>\n",
       "      <td>99.400000</td>\n",
       "      <td>40.200000</td>\n",
       "      <td>3.600000</td>\n",
       "      <td>7.700000</td>\n",
       "      <td>22.100000</td>\n",
       "      <td>299.000000</td>\n",
       "      <td>299.000000</td>\n",
       "      <td>8.000000</td>\n",
       "    </tr>\n",
       "  </tbody>\n",
       "</table>\n",
       "</div>"
      ],
      "text/plain": [
       "       moy_Temp[°C]  max_Temp[°C]  min_Temp[°C]  moy_DewPoint[°C]  \\\n",
       "count   1781.000000   1781.000000   1781.000000       1781.000000   \n",
       "mean      16.939517     25.120180      9.761179          9.210387   \n",
       "std        6.566283      7.797027      5.659706          4.369451   \n",
       "min        3.110000      5.640000     -3.980000         -5.700000   \n",
       "25%       11.620000     18.720000      5.240000          6.400000   \n",
       "50%       16.170000     24.490000      9.400000          9.400000   \n",
       "75%       22.150000     31.170000     14.020000         12.600000   \n",
       "max       35.140000     47.340000     27.850000         20.800000   \n",
       "\n",
       "       min_DewPoint[°C]  moy_SolarRadiation[W/m2]  moy_VPD[kPa]  min_VPD[kPa]  \\\n",
       "count       1781.000000               1781.000000   1781.000000   1781.000000   \n",
       "mean           5.344189                197.886581      0.960253      0.153195   \n",
       "std            5.031990                 82.742076      0.861440      0.306527   \n",
       "min          -14.700000                  0.000000      0.000000      0.000000   \n",
       "25%            1.900000                131.000000      0.310000      0.000000   \n",
       "50%            5.500000                194.000000      0.700000      0.010000   \n",
       "75%            9.100000                271.000000      1.360000      0.150000   \n",
       "max           19.900000                361.000000      5.120000      2.480000   \n",
       "\n",
       "       moy_RelativeHumidity[%]  max_RelativeHumidity[%]  \\\n",
       "count              1781.000000              1781.000000   \n",
       "mean                 67.806232                91.373459   \n",
       "std                  18.004065                13.681167   \n",
       "min                  15.570000                32.730000   \n",
       "25%                  55.730000                88.360000   \n",
       "50%                  70.070000                99.210000   \n",
       "75%                  82.150000                99.340000   \n",
       "max                  99.470000                99.780000   \n",
       "\n",
       "       min_RelativeHumidity[%]  Somme_Precipitation[mm]  moy_WindSpeed[m/s]  \\\n",
       "count              1781.000000              1781.000000         1779.000000   \n",
       "mean                 37.227434                 0.998877            0.732546   \n",
       "std                  17.878867                 3.328002            0.344445   \n",
       "min                   3.340000                 0.000000            0.000000   \n",
       "25%                  23.960000                 0.000000            0.500000   \n",
       "50%                  34.850000                 0.000000            0.700000   \n",
       "75%                  48.180000                 0.200000            0.800000   \n",
       "max                  99.400000                40.200000            3.600000   \n",
       "\n",
       "       max_WindSpeed[m/s]  max_WindSpeedMax[m/s]  moy_WindDirection[deg]  \\\n",
       "count         1779.000000            1678.000000                2.000000   \n",
       "mean             2.322147               5.263349              263.500000   \n",
       "std              0.746257               1.893481               50.204581   \n",
       "min              0.000000               1.400000              228.000000   \n",
       "25%              1.800000               4.100000              245.750000   \n",
       "50%              2.200000               4.900000              263.500000   \n",
       "75%              2.600000               5.900000              281.250000   \n",
       "max              7.700000              22.100000              299.000000   \n",
       "\n",
       "       dernier_WindDirection[deg]  ETP quotidien [mm]  \n",
       "count                    2.000000         1775.000000  \n",
       "mean                   263.500000            3.022535  \n",
       "std                     50.204581            1.643411  \n",
       "min                    228.000000            0.500000  \n",
       "25%                    245.750000            1.450000  \n",
       "50%                    263.500000            2.800000  \n",
       "75%                    281.250000            4.550000  \n",
       "max                    299.000000            8.000000  "
      ]
     },
     "execution_count": 24,
     "metadata": {},
     "output_type": "execute_result"
    }
   ],
   "source": [
    "df.describe()"
   ]
  },
  {
   "cell_type": "code",
   "execution_count": 25,
   "id": "ced57cc1",
   "metadata": {},
   "outputs": [
    {
     "data": {
      "text/plain": [
       "Date/heure                       0\n",
       "moy_Temp[°C]                     0\n",
       "max_Temp[°C]                     0\n",
       "min_Temp[°C]                     0\n",
       "moy_DewPoint[°C]                 0\n",
       "min_DewPoint[°C]                 0\n",
       "moy_SolarRadiation[W/m2]         0\n",
       "moy_VPD[kPa]                     0\n",
       "min_VPD[kPa]                     0\n",
       "moy_RelativeHumidity[%]          0\n",
       "max_RelativeHumidity[%]          0\n",
       "min_RelativeHumidity[%]          0\n",
       "Somme_Precipitation[mm]          0\n",
       "moy_WindSpeed[m/s]               2\n",
       "max_WindSpeed[m/s]               2\n",
       "max_WindSpeedMax[m/s]          103\n",
       "moy_WindDirection[deg]        1779\n",
       "dernier_WindDirection[deg]    1779\n",
       "ETP quotidien [mm]               6\n",
       "dtype: int64"
      ]
     },
     "execution_count": 25,
     "metadata": {},
     "output_type": "execute_result"
    }
   ],
   "source": [
    "df.isna().sum()"
   ]
  },
  {
   "cell_type": "code",
   "execution_count": 26,
   "id": "052613b5",
   "metadata": {
    "scrolled": true
   },
   "outputs": [
    {
     "name": "stderr",
     "output_type": "stream",
     "text": [
      "/var/folders/jm/1tc0dml95rn_rk696_b2vqc80000gn/T/ipykernel_7544/3802254522.py:1: FutureWarning: Dropping of nuisance columns in DataFrame reductions (with 'numeric_only=None') is deprecated; in a future version this will raise TypeError.  Select only valid columns before calling the reduction.\n",
      "  df_mean = df.fillna(df.mean())\n"
     ]
    }
   ],
   "source": [
    "df_mean = df.fillna(df.mean())"
   ]
  },
  {
   "cell_type": "code",
   "execution_count": 27,
   "id": "3ee26242",
   "metadata": {},
   "outputs": [
    {
     "name": "stderr",
     "output_type": "stream",
     "text": [
      "/var/folders/jm/1tc0dml95rn_rk696_b2vqc80000gn/T/ipykernel_7544/3484784094.py:1: FutureWarning: Dropping of nuisance columns in DataFrame reductions (with 'numeric_only=None') is deprecated; in a future version this will raise TypeError.  Select only valid columns before calling the reduction.\n",
      "  df_median = df.fillna(df.median())\n"
     ]
    }
   ],
   "source": [
    "df_median = df.fillna(df.median())"
   ]
  },
  {
   "cell_type": "code",
   "execution_count": 28,
   "id": "4a033bdf",
   "metadata": {},
   "outputs": [
    {
     "data": {
      "text/html": [
       "<div>\n",
       "<style scoped>\n",
       "    .dataframe tbody tr th:only-of-type {\n",
       "        vertical-align: middle;\n",
       "    }\n",
       "\n",
       "    .dataframe tbody tr th {\n",
       "        vertical-align: top;\n",
       "    }\n",
       "\n",
       "    .dataframe thead th {\n",
       "        text-align: right;\n",
       "    }\n",
       "</style>\n",
       "<table border=\"1\" class=\"dataframe\">\n",
       "  <thead>\n",
       "    <tr style=\"text-align: right;\">\n",
       "      <th></th>\n",
       "      <th>Date/heure</th>\n",
       "      <th>moy_Temp[°C]</th>\n",
       "      <th>max_Temp[°C]</th>\n",
       "      <th>min_Temp[°C]</th>\n",
       "      <th>moy_DewPoint[°C]</th>\n",
       "      <th>min_DewPoint[°C]</th>\n",
       "      <th>moy_SolarRadiation[W/m2]</th>\n",
       "      <th>moy_VPD[kPa]</th>\n",
       "      <th>min_VPD[kPa]</th>\n",
       "      <th>moy_RelativeHumidity[%]</th>\n",
       "      <th>max_RelativeHumidity[%]</th>\n",
       "      <th>min_RelativeHumidity[%]</th>\n",
       "      <th>Somme_Precipitation[mm]</th>\n",
       "      <th>moy_WindSpeed[m/s]</th>\n",
       "      <th>max_WindSpeed[m/s]</th>\n",
       "      <th>max_WindSpeedMax[m/s]</th>\n",
       "      <th>moy_WindDirection[deg]</th>\n",
       "      <th>dernier_WindDirection[deg]</th>\n",
       "      <th>ETP quotidien [mm]</th>\n",
       "    </tr>\n",
       "  </thead>\n",
       "  <tbody>\n",
       "    <tr>\n",
       "      <th>0</th>\n",
       "      <td>5/8/22 0:00</td>\n",
       "      <td>24.73</td>\n",
       "      <td>35.08</td>\n",
       "      <td>15.11</td>\n",
       "      <td>12.4</td>\n",
       "      <td>8.8</td>\n",
       "      <td>361</td>\n",
       "      <td>1.90</td>\n",
       "      <td>0.30</td>\n",
       "      <td>51.87</td>\n",
       "      <td>83.30</td>\n",
       "      <td>22.00</td>\n",
       "      <td>0.0</td>\n",
       "      <td>0.500000</td>\n",
       "      <td>2.100000</td>\n",
       "      <td>4.400000</td>\n",
       "      <td>263.5</td>\n",
       "      <td>263.5</td>\n",
       "      <td>3.022535</td>\n",
       "    </tr>\n",
       "    <tr>\n",
       "      <th>1</th>\n",
       "      <td>4/8/22 0:00</td>\n",
       "      <td>25.26</td>\n",
       "      <td>35.79</td>\n",
       "      <td>16.40</td>\n",
       "      <td>14.6</td>\n",
       "      <td>8.0</td>\n",
       "      <td>288</td>\n",
       "      <td>1.73</td>\n",
       "      <td>0.00</td>\n",
       "      <td>59.06</td>\n",
       "      <td>99.54</td>\n",
       "      <td>19.84</td>\n",
       "      <td>0.0</td>\n",
       "      <td>0.600000</td>\n",
       "      <td>1.700000</td>\n",
       "      <td>5.300000</td>\n",
       "      <td>263.5</td>\n",
       "      <td>263.5</td>\n",
       "      <td>5.000000</td>\n",
       "    </tr>\n",
       "    <tr>\n",
       "      <th>2</th>\n",
       "      <td>3/8/22 0:00</td>\n",
       "      <td>28.37</td>\n",
       "      <td>36.71</td>\n",
       "      <td>19.80</td>\n",
       "      <td>12.3</td>\n",
       "      <td>7.4</td>\n",
       "      <td>285</td>\n",
       "      <td>2.56</td>\n",
       "      <td>0.95</td>\n",
       "      <td>38.43</td>\n",
       "      <td>65.76</td>\n",
       "      <td>23.60</td>\n",
       "      <td>0.0</td>\n",
       "      <td>0.700000</td>\n",
       "      <td>2.600000</td>\n",
       "      <td>5.300000</td>\n",
       "      <td>263.5</td>\n",
       "      <td>263.5</td>\n",
       "      <td>5.300000</td>\n",
       "    </tr>\n",
       "    <tr>\n",
       "      <th>3</th>\n",
       "      <td>2/8/22 0:00</td>\n",
       "      <td>32.17</td>\n",
       "      <td>43.43</td>\n",
       "      <td>19.68</td>\n",
       "      <td>0.9</td>\n",
       "      <td>-4.7</td>\n",
       "      <td>296</td>\n",
       "      <td>4.55</td>\n",
       "      <td>1.70</td>\n",
       "      <td>16.44</td>\n",
       "      <td>38.56</td>\n",
       "      <td>5.23</td>\n",
       "      <td>0.0</td>\n",
       "      <td>0.600000</td>\n",
       "      <td>2.300000</td>\n",
       "      <td>6.600000</td>\n",
       "      <td>263.5</td>\n",
       "      <td>263.5</td>\n",
       "      <td>5.300000</td>\n",
       "    </tr>\n",
       "    <tr>\n",
       "      <th>4</th>\n",
       "      <td>1/8/22 0:00</td>\n",
       "      <td>32.30</td>\n",
       "      <td>41.90</td>\n",
       "      <td>21.26</td>\n",
       "      <td>8.7</td>\n",
       "      <td>1.5</td>\n",
       "      <td>290</td>\n",
       "      <td>3.97</td>\n",
       "      <td>1.39</td>\n",
       "      <td>26.68</td>\n",
       "      <td>47.56</td>\n",
       "      <td>9.52</td>\n",
       "      <td>0.0</td>\n",
       "      <td>0.600000</td>\n",
       "      <td>2.700000</td>\n",
       "      <td>6.700000</td>\n",
       "      <td>263.5</td>\n",
       "      <td>263.5</td>\n",
       "      <td>5.500000</td>\n",
       "    </tr>\n",
       "    <tr>\n",
       "      <th>...</th>\n",
       "      <td>...</td>\n",
       "      <td>...</td>\n",
       "      <td>...</td>\n",
       "      <td>...</td>\n",
       "      <td>...</td>\n",
       "      <td>...</td>\n",
       "      <td>...</td>\n",
       "      <td>...</td>\n",
       "      <td>...</td>\n",
       "      <td>...</td>\n",
       "      <td>...</td>\n",
       "      <td>...</td>\n",
       "      <td>...</td>\n",
       "      <td>...</td>\n",
       "      <td>...</td>\n",
       "      <td>...</td>\n",
       "      <td>...</td>\n",
       "      <td>...</td>\n",
       "      <td>...</td>\n",
       "    </tr>\n",
       "    <tr>\n",
       "      <th>1776</th>\n",
       "      <td>4/9/17 0:00</td>\n",
       "      <td>26.19</td>\n",
       "      <td>27.22</td>\n",
       "      <td>25.43</td>\n",
       "      <td>19.0</td>\n",
       "      <td>17.9</td>\n",
       "      <td>0</td>\n",
       "      <td>1.18</td>\n",
       "      <td>1.04</td>\n",
       "      <td>65.12</td>\n",
       "      <td>68.01</td>\n",
       "      <td>57.11</td>\n",
       "      <td>5.4</td>\n",
       "      <td>0.000000</td>\n",
       "      <td>0.500000</td>\n",
       "      <td>5.263349</td>\n",
       "      <td>263.5</td>\n",
       "      <td>263.5</td>\n",
       "      <td>0.600000</td>\n",
       "    </tr>\n",
       "    <tr>\n",
       "      <th>1777</th>\n",
       "      <td>6/6/17 0:00</td>\n",
       "      <td>26.21</td>\n",
       "      <td>26.42</td>\n",
       "      <td>25.51</td>\n",
       "      <td>17.4</td>\n",
       "      <td>17.2</td>\n",
       "      <td>0</td>\n",
       "      <td>1.40</td>\n",
       "      <td>1.28</td>\n",
       "      <td>58.50</td>\n",
       "      <td>60.93</td>\n",
       "      <td>57.18</td>\n",
       "      <td>0.0</td>\n",
       "      <td>0.000000</td>\n",
       "      <td>0.000000</td>\n",
       "      <td>5.263349</td>\n",
       "      <td>299.0</td>\n",
       "      <td>299.0</td>\n",
       "      <td>3.022535</td>\n",
       "    </tr>\n",
       "    <tr>\n",
       "      <th>1778</th>\n",
       "      <td>5/6/17 0:00</td>\n",
       "      <td>26.31</td>\n",
       "      <td>26.47</td>\n",
       "      <td>26.10</td>\n",
       "      <td>16.0</td>\n",
       "      <td>15.3</td>\n",
       "      <td>0</td>\n",
       "      <td>1.58</td>\n",
       "      <td>1.48</td>\n",
       "      <td>53.43</td>\n",
       "      <td>56.89</td>\n",
       "      <td>51.64</td>\n",
       "      <td>0.0</td>\n",
       "      <td>0.000000</td>\n",
       "      <td>0.000000</td>\n",
       "      <td>5.263349</td>\n",
       "      <td>228.0</td>\n",
       "      <td>228.0</td>\n",
       "      <td>3.022535</td>\n",
       "    </tr>\n",
       "    <tr>\n",
       "      <th>1779</th>\n",
       "      <td>10/4/17 0:00</td>\n",
       "      <td>23.58</td>\n",
       "      <td>23.92</td>\n",
       "      <td>22.89</td>\n",
       "      <td>14.9</td>\n",
       "      <td>14.1</td>\n",
       "      <td>2</td>\n",
       "      <td>1.20</td>\n",
       "      <td>1.13</td>\n",
       "      <td>58.56</td>\n",
       "      <td>61.86</td>\n",
       "      <td>56.71</td>\n",
       "      <td>0.0</td>\n",
       "      <td>0.732546</td>\n",
       "      <td>2.322147</td>\n",
       "      <td>5.263349</td>\n",
       "      <td>263.5</td>\n",
       "      <td>263.5</td>\n",
       "      <td>3.022535</td>\n",
       "    </tr>\n",
       "    <tr>\n",
       "      <th>1780</th>\n",
       "      <td>10/11/16 0:00</td>\n",
       "      <td>21.87</td>\n",
       "      <td>22.60</td>\n",
       "      <td>20.94</td>\n",
       "      <td>3.8</td>\n",
       "      <td>3.4</td>\n",
       "      <td>93</td>\n",
       "      <td>1.81</td>\n",
       "      <td>1.66</td>\n",
       "      <td>30.93</td>\n",
       "      <td>32.73</td>\n",
       "      <td>29.15</td>\n",
       "      <td>0.0</td>\n",
       "      <td>0.732546</td>\n",
       "      <td>2.322147</td>\n",
       "      <td>5.263349</td>\n",
       "      <td>263.5</td>\n",
       "      <td>263.5</td>\n",
       "      <td>3.022535</td>\n",
       "    </tr>\n",
       "  </tbody>\n",
       "</table>\n",
       "<p>1781 rows × 19 columns</p>\n",
       "</div>"
      ],
      "text/plain": [
       "         Date/heure  moy_Temp[°C]  max_Temp[°C]  min_Temp[°C]  \\\n",
       "0       5/8/22 0:00         24.73         35.08         15.11   \n",
       "1       4/8/22 0:00         25.26         35.79         16.40   \n",
       "2       3/8/22 0:00         28.37         36.71         19.80   \n",
       "3       2/8/22 0:00         32.17         43.43         19.68   \n",
       "4       1/8/22 0:00         32.30         41.90         21.26   \n",
       "...             ...           ...           ...           ...   \n",
       "1776    4/9/17 0:00         26.19         27.22         25.43   \n",
       "1777    6/6/17 0:00         26.21         26.42         25.51   \n",
       "1778    5/6/17 0:00         26.31         26.47         26.10   \n",
       "1779   10/4/17 0:00         23.58         23.92         22.89   \n",
       "1780  10/11/16 0:00         21.87         22.60         20.94   \n",
       "\n",
       "      moy_DewPoint[°C]  min_DewPoint[°C]  moy_SolarRadiation[W/m2]  \\\n",
       "0                 12.4               8.8                       361   \n",
       "1                 14.6               8.0                       288   \n",
       "2                 12.3               7.4                       285   \n",
       "3                  0.9              -4.7                       296   \n",
       "4                  8.7               1.5                       290   \n",
       "...                ...               ...                       ...   \n",
       "1776              19.0              17.9                         0   \n",
       "1777              17.4              17.2                         0   \n",
       "1778              16.0              15.3                         0   \n",
       "1779              14.9              14.1                         2   \n",
       "1780               3.8               3.4                        93   \n",
       "\n",
       "      moy_VPD[kPa]  min_VPD[kPa]  moy_RelativeHumidity[%]  \\\n",
       "0             1.90          0.30                    51.87   \n",
       "1             1.73          0.00                    59.06   \n",
       "2             2.56          0.95                    38.43   \n",
       "3             4.55          1.70                    16.44   \n",
       "4             3.97          1.39                    26.68   \n",
       "...            ...           ...                      ...   \n",
       "1776          1.18          1.04                    65.12   \n",
       "1777          1.40          1.28                    58.50   \n",
       "1778          1.58          1.48                    53.43   \n",
       "1779          1.20          1.13                    58.56   \n",
       "1780          1.81          1.66                    30.93   \n",
       "\n",
       "      max_RelativeHumidity[%]  min_RelativeHumidity[%]  \\\n",
       "0                       83.30                    22.00   \n",
       "1                       99.54                    19.84   \n",
       "2                       65.76                    23.60   \n",
       "3                       38.56                     5.23   \n",
       "4                       47.56                     9.52   \n",
       "...                       ...                      ...   \n",
       "1776                    68.01                    57.11   \n",
       "1777                    60.93                    57.18   \n",
       "1778                    56.89                    51.64   \n",
       "1779                    61.86                    56.71   \n",
       "1780                    32.73                    29.15   \n",
       "\n",
       "      Somme_Precipitation[mm]  moy_WindSpeed[m/s]  max_WindSpeed[m/s]  \\\n",
       "0                         0.0            0.500000            2.100000   \n",
       "1                         0.0            0.600000            1.700000   \n",
       "2                         0.0            0.700000            2.600000   \n",
       "3                         0.0            0.600000            2.300000   \n",
       "4                         0.0            0.600000            2.700000   \n",
       "...                       ...                 ...                 ...   \n",
       "1776                      5.4            0.000000            0.500000   \n",
       "1777                      0.0            0.000000            0.000000   \n",
       "1778                      0.0            0.000000            0.000000   \n",
       "1779                      0.0            0.732546            2.322147   \n",
       "1780                      0.0            0.732546            2.322147   \n",
       "\n",
       "      max_WindSpeedMax[m/s]  moy_WindDirection[deg]  \\\n",
       "0                  4.400000                   263.5   \n",
       "1                  5.300000                   263.5   \n",
       "2                  5.300000                   263.5   \n",
       "3                  6.600000                   263.5   \n",
       "4                  6.700000                   263.5   \n",
       "...                     ...                     ...   \n",
       "1776               5.263349                   263.5   \n",
       "1777               5.263349                   299.0   \n",
       "1778               5.263349                   228.0   \n",
       "1779               5.263349                   263.5   \n",
       "1780               5.263349                   263.5   \n",
       "\n",
       "      dernier_WindDirection[deg]  ETP quotidien [mm]  \n",
       "0                          263.5            3.022535  \n",
       "1                          263.5            5.000000  \n",
       "2                          263.5            5.300000  \n",
       "3                          263.5            5.300000  \n",
       "4                          263.5            5.500000  \n",
       "...                          ...                 ...  \n",
       "1776                       263.5            0.600000  \n",
       "1777                       299.0            3.022535  \n",
       "1778                       228.0            3.022535  \n",
       "1779                       263.5            3.022535  \n",
       "1780                       263.5            3.022535  \n",
       "\n",
       "[1781 rows x 19 columns]"
      ]
     },
     "execution_count": 28,
     "metadata": {},
     "output_type": "execute_result"
    }
   ],
   "source": [
    "df_mean"
   ]
  },
  {
   "cell_type": "code",
   "execution_count": 29,
   "id": "32158917",
   "metadata": {},
   "outputs": [
    {
     "data": {
      "text/html": [
       "<div>\n",
       "<style scoped>\n",
       "    .dataframe tbody tr th:only-of-type {\n",
       "        vertical-align: middle;\n",
       "    }\n",
       "\n",
       "    .dataframe tbody tr th {\n",
       "        vertical-align: top;\n",
       "    }\n",
       "\n",
       "    .dataframe thead th {\n",
       "        text-align: right;\n",
       "    }\n",
       "</style>\n",
       "<table border=\"1\" class=\"dataframe\">\n",
       "  <thead>\n",
       "    <tr style=\"text-align: right;\">\n",
       "      <th></th>\n",
       "      <th>Date/heure</th>\n",
       "      <th>moy_Temp[°C]</th>\n",
       "      <th>max_Temp[°C]</th>\n",
       "      <th>min_Temp[°C]</th>\n",
       "      <th>moy_DewPoint[°C]</th>\n",
       "      <th>min_DewPoint[°C]</th>\n",
       "      <th>moy_SolarRadiation[W/m2]</th>\n",
       "      <th>moy_VPD[kPa]</th>\n",
       "      <th>min_VPD[kPa]</th>\n",
       "      <th>moy_RelativeHumidity[%]</th>\n",
       "      <th>max_RelativeHumidity[%]</th>\n",
       "      <th>min_RelativeHumidity[%]</th>\n",
       "      <th>Somme_Precipitation[mm]</th>\n",
       "      <th>moy_WindSpeed[m/s]</th>\n",
       "      <th>max_WindSpeed[m/s]</th>\n",
       "      <th>max_WindSpeedMax[m/s]</th>\n",
       "      <th>moy_WindDirection[deg]</th>\n",
       "      <th>dernier_WindDirection[deg]</th>\n",
       "      <th>ETP quotidien [mm]</th>\n",
       "    </tr>\n",
       "  </thead>\n",
       "  <tbody>\n",
       "    <tr>\n",
       "      <th>0</th>\n",
       "      <td>5/8/22 0:00</td>\n",
       "      <td>24.73</td>\n",
       "      <td>35.08</td>\n",
       "      <td>15.11</td>\n",
       "      <td>12.4</td>\n",
       "      <td>8.8</td>\n",
       "      <td>361</td>\n",
       "      <td>1.90</td>\n",
       "      <td>0.30</td>\n",
       "      <td>51.87</td>\n",
       "      <td>83.30</td>\n",
       "      <td>22.00</td>\n",
       "      <td>0.0</td>\n",
       "      <td>0.5</td>\n",
       "      <td>2.1</td>\n",
       "      <td>4.4</td>\n",
       "      <td>263.5</td>\n",
       "      <td>263.5</td>\n",
       "      <td>2.8</td>\n",
       "    </tr>\n",
       "    <tr>\n",
       "      <th>1</th>\n",
       "      <td>4/8/22 0:00</td>\n",
       "      <td>25.26</td>\n",
       "      <td>35.79</td>\n",
       "      <td>16.40</td>\n",
       "      <td>14.6</td>\n",
       "      <td>8.0</td>\n",
       "      <td>288</td>\n",
       "      <td>1.73</td>\n",
       "      <td>0.00</td>\n",
       "      <td>59.06</td>\n",
       "      <td>99.54</td>\n",
       "      <td>19.84</td>\n",
       "      <td>0.0</td>\n",
       "      <td>0.6</td>\n",
       "      <td>1.7</td>\n",
       "      <td>5.3</td>\n",
       "      <td>263.5</td>\n",
       "      <td>263.5</td>\n",
       "      <td>5.0</td>\n",
       "    </tr>\n",
       "    <tr>\n",
       "      <th>2</th>\n",
       "      <td>3/8/22 0:00</td>\n",
       "      <td>28.37</td>\n",
       "      <td>36.71</td>\n",
       "      <td>19.80</td>\n",
       "      <td>12.3</td>\n",
       "      <td>7.4</td>\n",
       "      <td>285</td>\n",
       "      <td>2.56</td>\n",
       "      <td>0.95</td>\n",
       "      <td>38.43</td>\n",
       "      <td>65.76</td>\n",
       "      <td>23.60</td>\n",
       "      <td>0.0</td>\n",
       "      <td>0.7</td>\n",
       "      <td>2.6</td>\n",
       "      <td>5.3</td>\n",
       "      <td>263.5</td>\n",
       "      <td>263.5</td>\n",
       "      <td>5.3</td>\n",
       "    </tr>\n",
       "    <tr>\n",
       "      <th>3</th>\n",
       "      <td>2/8/22 0:00</td>\n",
       "      <td>32.17</td>\n",
       "      <td>43.43</td>\n",
       "      <td>19.68</td>\n",
       "      <td>0.9</td>\n",
       "      <td>-4.7</td>\n",
       "      <td>296</td>\n",
       "      <td>4.55</td>\n",
       "      <td>1.70</td>\n",
       "      <td>16.44</td>\n",
       "      <td>38.56</td>\n",
       "      <td>5.23</td>\n",
       "      <td>0.0</td>\n",
       "      <td>0.6</td>\n",
       "      <td>2.3</td>\n",
       "      <td>6.6</td>\n",
       "      <td>263.5</td>\n",
       "      <td>263.5</td>\n",
       "      <td>5.3</td>\n",
       "    </tr>\n",
       "    <tr>\n",
       "      <th>4</th>\n",
       "      <td>1/8/22 0:00</td>\n",
       "      <td>32.30</td>\n",
       "      <td>41.90</td>\n",
       "      <td>21.26</td>\n",
       "      <td>8.7</td>\n",
       "      <td>1.5</td>\n",
       "      <td>290</td>\n",
       "      <td>3.97</td>\n",
       "      <td>1.39</td>\n",
       "      <td>26.68</td>\n",
       "      <td>47.56</td>\n",
       "      <td>9.52</td>\n",
       "      <td>0.0</td>\n",
       "      <td>0.6</td>\n",
       "      <td>2.7</td>\n",
       "      <td>6.7</td>\n",
       "      <td>263.5</td>\n",
       "      <td>263.5</td>\n",
       "      <td>5.5</td>\n",
       "    </tr>\n",
       "    <tr>\n",
       "      <th>...</th>\n",
       "      <td>...</td>\n",
       "      <td>...</td>\n",
       "      <td>...</td>\n",
       "      <td>...</td>\n",
       "      <td>...</td>\n",
       "      <td>...</td>\n",
       "      <td>...</td>\n",
       "      <td>...</td>\n",
       "      <td>...</td>\n",
       "      <td>...</td>\n",
       "      <td>...</td>\n",
       "      <td>...</td>\n",
       "      <td>...</td>\n",
       "      <td>...</td>\n",
       "      <td>...</td>\n",
       "      <td>...</td>\n",
       "      <td>...</td>\n",
       "      <td>...</td>\n",
       "      <td>...</td>\n",
       "    </tr>\n",
       "    <tr>\n",
       "      <th>1776</th>\n",
       "      <td>4/9/17 0:00</td>\n",
       "      <td>26.19</td>\n",
       "      <td>27.22</td>\n",
       "      <td>25.43</td>\n",
       "      <td>19.0</td>\n",
       "      <td>17.9</td>\n",
       "      <td>0</td>\n",
       "      <td>1.18</td>\n",
       "      <td>1.04</td>\n",
       "      <td>65.12</td>\n",
       "      <td>68.01</td>\n",
       "      <td>57.11</td>\n",
       "      <td>5.4</td>\n",
       "      <td>0.0</td>\n",
       "      <td>0.5</td>\n",
       "      <td>4.9</td>\n",
       "      <td>263.5</td>\n",
       "      <td>263.5</td>\n",
       "      <td>0.6</td>\n",
       "    </tr>\n",
       "    <tr>\n",
       "      <th>1777</th>\n",
       "      <td>6/6/17 0:00</td>\n",
       "      <td>26.21</td>\n",
       "      <td>26.42</td>\n",
       "      <td>25.51</td>\n",
       "      <td>17.4</td>\n",
       "      <td>17.2</td>\n",
       "      <td>0</td>\n",
       "      <td>1.40</td>\n",
       "      <td>1.28</td>\n",
       "      <td>58.50</td>\n",
       "      <td>60.93</td>\n",
       "      <td>57.18</td>\n",
       "      <td>0.0</td>\n",
       "      <td>0.0</td>\n",
       "      <td>0.0</td>\n",
       "      <td>4.9</td>\n",
       "      <td>299.0</td>\n",
       "      <td>299.0</td>\n",
       "      <td>2.8</td>\n",
       "    </tr>\n",
       "    <tr>\n",
       "      <th>1778</th>\n",
       "      <td>5/6/17 0:00</td>\n",
       "      <td>26.31</td>\n",
       "      <td>26.47</td>\n",
       "      <td>26.10</td>\n",
       "      <td>16.0</td>\n",
       "      <td>15.3</td>\n",
       "      <td>0</td>\n",
       "      <td>1.58</td>\n",
       "      <td>1.48</td>\n",
       "      <td>53.43</td>\n",
       "      <td>56.89</td>\n",
       "      <td>51.64</td>\n",
       "      <td>0.0</td>\n",
       "      <td>0.0</td>\n",
       "      <td>0.0</td>\n",
       "      <td>4.9</td>\n",
       "      <td>228.0</td>\n",
       "      <td>228.0</td>\n",
       "      <td>2.8</td>\n",
       "    </tr>\n",
       "    <tr>\n",
       "      <th>1779</th>\n",
       "      <td>10/4/17 0:00</td>\n",
       "      <td>23.58</td>\n",
       "      <td>23.92</td>\n",
       "      <td>22.89</td>\n",
       "      <td>14.9</td>\n",
       "      <td>14.1</td>\n",
       "      <td>2</td>\n",
       "      <td>1.20</td>\n",
       "      <td>1.13</td>\n",
       "      <td>58.56</td>\n",
       "      <td>61.86</td>\n",
       "      <td>56.71</td>\n",
       "      <td>0.0</td>\n",
       "      <td>0.7</td>\n",
       "      <td>2.2</td>\n",
       "      <td>4.9</td>\n",
       "      <td>263.5</td>\n",
       "      <td>263.5</td>\n",
       "      <td>2.8</td>\n",
       "    </tr>\n",
       "    <tr>\n",
       "      <th>1780</th>\n",
       "      <td>10/11/16 0:00</td>\n",
       "      <td>21.87</td>\n",
       "      <td>22.60</td>\n",
       "      <td>20.94</td>\n",
       "      <td>3.8</td>\n",
       "      <td>3.4</td>\n",
       "      <td>93</td>\n",
       "      <td>1.81</td>\n",
       "      <td>1.66</td>\n",
       "      <td>30.93</td>\n",
       "      <td>32.73</td>\n",
       "      <td>29.15</td>\n",
       "      <td>0.0</td>\n",
       "      <td>0.7</td>\n",
       "      <td>2.2</td>\n",
       "      <td>4.9</td>\n",
       "      <td>263.5</td>\n",
       "      <td>263.5</td>\n",
       "      <td>2.8</td>\n",
       "    </tr>\n",
       "  </tbody>\n",
       "</table>\n",
       "<p>1781 rows × 19 columns</p>\n",
       "</div>"
      ],
      "text/plain": [
       "         Date/heure  moy_Temp[°C]  max_Temp[°C]  min_Temp[°C]  \\\n",
       "0       5/8/22 0:00         24.73         35.08         15.11   \n",
       "1       4/8/22 0:00         25.26         35.79         16.40   \n",
       "2       3/8/22 0:00         28.37         36.71         19.80   \n",
       "3       2/8/22 0:00         32.17         43.43         19.68   \n",
       "4       1/8/22 0:00         32.30         41.90         21.26   \n",
       "...             ...           ...           ...           ...   \n",
       "1776    4/9/17 0:00         26.19         27.22         25.43   \n",
       "1777    6/6/17 0:00         26.21         26.42         25.51   \n",
       "1778    5/6/17 0:00         26.31         26.47         26.10   \n",
       "1779   10/4/17 0:00         23.58         23.92         22.89   \n",
       "1780  10/11/16 0:00         21.87         22.60         20.94   \n",
       "\n",
       "      moy_DewPoint[°C]  min_DewPoint[°C]  moy_SolarRadiation[W/m2]  \\\n",
       "0                 12.4               8.8                       361   \n",
       "1                 14.6               8.0                       288   \n",
       "2                 12.3               7.4                       285   \n",
       "3                  0.9              -4.7                       296   \n",
       "4                  8.7               1.5                       290   \n",
       "...                ...               ...                       ...   \n",
       "1776              19.0              17.9                         0   \n",
       "1777              17.4              17.2                         0   \n",
       "1778              16.0              15.3                         0   \n",
       "1779              14.9              14.1                         2   \n",
       "1780               3.8               3.4                        93   \n",
       "\n",
       "      moy_VPD[kPa]  min_VPD[kPa]  moy_RelativeHumidity[%]  \\\n",
       "0             1.90          0.30                    51.87   \n",
       "1             1.73          0.00                    59.06   \n",
       "2             2.56          0.95                    38.43   \n",
       "3             4.55          1.70                    16.44   \n",
       "4             3.97          1.39                    26.68   \n",
       "...            ...           ...                      ...   \n",
       "1776          1.18          1.04                    65.12   \n",
       "1777          1.40          1.28                    58.50   \n",
       "1778          1.58          1.48                    53.43   \n",
       "1779          1.20          1.13                    58.56   \n",
       "1780          1.81          1.66                    30.93   \n",
       "\n",
       "      max_RelativeHumidity[%]  min_RelativeHumidity[%]  \\\n",
       "0                       83.30                    22.00   \n",
       "1                       99.54                    19.84   \n",
       "2                       65.76                    23.60   \n",
       "3                       38.56                     5.23   \n",
       "4                       47.56                     9.52   \n",
       "...                       ...                      ...   \n",
       "1776                    68.01                    57.11   \n",
       "1777                    60.93                    57.18   \n",
       "1778                    56.89                    51.64   \n",
       "1779                    61.86                    56.71   \n",
       "1780                    32.73                    29.15   \n",
       "\n",
       "      Somme_Precipitation[mm]  moy_WindSpeed[m/s]  max_WindSpeed[m/s]  \\\n",
       "0                         0.0                 0.5                 2.1   \n",
       "1                         0.0                 0.6                 1.7   \n",
       "2                         0.0                 0.7                 2.6   \n",
       "3                         0.0                 0.6                 2.3   \n",
       "4                         0.0                 0.6                 2.7   \n",
       "...                       ...                 ...                 ...   \n",
       "1776                      5.4                 0.0                 0.5   \n",
       "1777                      0.0                 0.0                 0.0   \n",
       "1778                      0.0                 0.0                 0.0   \n",
       "1779                      0.0                 0.7                 2.2   \n",
       "1780                      0.0                 0.7                 2.2   \n",
       "\n",
       "      max_WindSpeedMax[m/s]  moy_WindDirection[deg]  \\\n",
       "0                       4.4                   263.5   \n",
       "1                       5.3                   263.5   \n",
       "2                       5.3                   263.5   \n",
       "3                       6.6                   263.5   \n",
       "4                       6.7                   263.5   \n",
       "...                     ...                     ...   \n",
       "1776                    4.9                   263.5   \n",
       "1777                    4.9                   299.0   \n",
       "1778                    4.9                   228.0   \n",
       "1779                    4.9                   263.5   \n",
       "1780                    4.9                   263.5   \n",
       "\n",
       "      dernier_WindDirection[deg]  ETP quotidien [mm]  \n",
       "0                          263.5                 2.8  \n",
       "1                          263.5                 5.0  \n",
       "2                          263.5                 5.3  \n",
       "3                          263.5                 5.3  \n",
       "4                          263.5                 5.5  \n",
       "...                          ...                 ...  \n",
       "1776                       263.5                 0.6  \n",
       "1777                       299.0                 2.8  \n",
       "1778                       228.0                 2.8  \n",
       "1779                       263.5                 2.8  \n",
       "1780                       263.5                 2.8  \n",
       "\n",
       "[1781 rows x 19 columns]"
      ]
     },
     "execution_count": 29,
     "metadata": {},
     "output_type": "execute_result"
    }
   ],
   "source": [
    "df_median"
   ]
  },
  {
   "cell_type": "code",
   "execution_count": 30,
   "id": "afbdbf91",
   "metadata": {},
   "outputs": [
    {
     "data": {
      "text/plain": [
       "Date/heure                     object\n",
       "moy_Temp[°C]                  float64\n",
       "max_Temp[°C]                  float64\n",
       "min_Temp[°C]                  float64\n",
       "moy_DewPoint[°C]              float64\n",
       "min_DewPoint[°C]              float64\n",
       "moy_SolarRadiation[W/m2]        int64\n",
       "moy_VPD[kPa]                  float64\n",
       "min_VPD[kPa]                  float64\n",
       "moy_RelativeHumidity[%]       float64\n",
       "max_RelativeHumidity[%]       float64\n",
       "min_RelativeHumidity[%]       float64\n",
       "Somme_Precipitation[mm]       float64\n",
       "moy_WindSpeed[m/s]            float64\n",
       "max_WindSpeed[m/s]            float64\n",
       "max_WindSpeedMax[m/s]         float64\n",
       "moy_WindDirection[deg]        float64\n",
       "dernier_WindDirection[deg]    float64\n",
       "ETP quotidien [mm]            float64\n",
       "dtype: object"
      ]
     },
     "execution_count": 30,
     "metadata": {},
     "output_type": "execute_result"
    }
   ],
   "source": [
    "df.dtypes"
   ]
  },
  {
   "cell_type": "code",
   "execution_count": 31,
   "id": "9130b2d3",
   "metadata": {},
   "outputs": [],
   "source": [
    "df_mean=df_mean.drop('Date/heure',axis=1)"
   ]
  },
  {
   "cell_type": "code",
   "execution_count": 32,
   "id": "b1b8253a",
   "metadata": {},
   "outputs": [
    {
     "data": {
      "text/plain": [
       "moy_Temp[°C]                  float64\n",
       "max_Temp[°C]                  float64\n",
       "min_Temp[°C]                  float64\n",
       "moy_DewPoint[°C]              float64\n",
       "min_DewPoint[°C]              float64\n",
       "moy_SolarRadiation[W/m2]        int64\n",
       "moy_VPD[kPa]                  float64\n",
       "min_VPD[kPa]                  float64\n",
       "moy_RelativeHumidity[%]       float64\n",
       "max_RelativeHumidity[%]       float64\n",
       "min_RelativeHumidity[%]       float64\n",
       "Somme_Precipitation[mm]       float64\n",
       "moy_WindSpeed[m/s]            float64\n",
       "max_WindSpeed[m/s]            float64\n",
       "max_WindSpeedMax[m/s]         float64\n",
       "moy_WindDirection[deg]        float64\n",
       "dernier_WindDirection[deg]    float64\n",
       "ETP quotidien [mm]            float64\n",
       "dtype: object"
      ]
     },
     "execution_count": 32,
     "metadata": {},
     "output_type": "execute_result"
    }
   ],
   "source": [
    "df_mean.dtypes"
   ]
  },
  {
   "cell_type": "code",
   "execution_count": 33,
   "id": "53acfb46",
   "metadata": {},
   "outputs": [],
   "source": [
    "from sklearn.model_selection import train_test_split"
   ]
  },
  {
   "cell_type": "code",
   "execution_count": 34,
   "id": "7ba52041",
   "metadata": {},
   "outputs": [],
   "source": [
    "features_mean = df_mean.drop('ETP quotidien [mm]',axis=1)\n",
    "target_mean = df_mean['ETP quotidien [mm]']"
   ]
  },
  {
   "cell_type": "code",
   "execution_count": 35,
   "id": "6115d520",
   "metadata": {},
   "outputs": [
    {
     "data": {
      "text/html": [
       "<div>\n",
       "<style scoped>\n",
       "    .dataframe tbody tr th:only-of-type {\n",
       "        vertical-align: middle;\n",
       "    }\n",
       "\n",
       "    .dataframe tbody tr th {\n",
       "        vertical-align: top;\n",
       "    }\n",
       "\n",
       "    .dataframe thead th {\n",
       "        text-align: right;\n",
       "    }\n",
       "</style>\n",
       "<table border=\"1\" class=\"dataframe\">\n",
       "  <thead>\n",
       "    <tr style=\"text-align: right;\">\n",
       "      <th></th>\n",
       "      <th>moy_Temp[°C]</th>\n",
       "      <th>max_Temp[°C]</th>\n",
       "      <th>min_Temp[°C]</th>\n",
       "      <th>moy_DewPoint[°C]</th>\n",
       "      <th>min_DewPoint[°C]</th>\n",
       "      <th>moy_SolarRadiation[W/m2]</th>\n",
       "      <th>moy_VPD[kPa]</th>\n",
       "      <th>min_VPD[kPa]</th>\n",
       "      <th>moy_RelativeHumidity[%]</th>\n",
       "      <th>max_RelativeHumidity[%]</th>\n",
       "      <th>min_RelativeHumidity[%]</th>\n",
       "      <th>Somme_Precipitation[mm]</th>\n",
       "      <th>moy_WindSpeed[m/s]</th>\n",
       "      <th>max_WindSpeed[m/s]</th>\n",
       "      <th>max_WindSpeedMax[m/s]</th>\n",
       "      <th>moy_WindDirection[deg]</th>\n",
       "      <th>dernier_WindDirection[deg]</th>\n",
       "    </tr>\n",
       "  </thead>\n",
       "  <tbody>\n",
       "    <tr>\n",
       "      <th>0</th>\n",
       "      <td>24.73</td>\n",
       "      <td>35.08</td>\n",
       "      <td>15.11</td>\n",
       "      <td>12.4</td>\n",
       "      <td>8.8</td>\n",
       "      <td>361</td>\n",
       "      <td>1.90</td>\n",
       "      <td>0.30</td>\n",
       "      <td>51.87</td>\n",
       "      <td>83.30</td>\n",
       "      <td>22.00</td>\n",
       "      <td>0.0</td>\n",
       "      <td>0.500000</td>\n",
       "      <td>2.100000</td>\n",
       "      <td>4.400000</td>\n",
       "      <td>263.5</td>\n",
       "      <td>263.5</td>\n",
       "    </tr>\n",
       "    <tr>\n",
       "      <th>1</th>\n",
       "      <td>25.26</td>\n",
       "      <td>35.79</td>\n",
       "      <td>16.40</td>\n",
       "      <td>14.6</td>\n",
       "      <td>8.0</td>\n",
       "      <td>288</td>\n",
       "      <td>1.73</td>\n",
       "      <td>0.00</td>\n",
       "      <td>59.06</td>\n",
       "      <td>99.54</td>\n",
       "      <td>19.84</td>\n",
       "      <td>0.0</td>\n",
       "      <td>0.600000</td>\n",
       "      <td>1.700000</td>\n",
       "      <td>5.300000</td>\n",
       "      <td>263.5</td>\n",
       "      <td>263.5</td>\n",
       "    </tr>\n",
       "    <tr>\n",
       "      <th>2</th>\n",
       "      <td>28.37</td>\n",
       "      <td>36.71</td>\n",
       "      <td>19.80</td>\n",
       "      <td>12.3</td>\n",
       "      <td>7.4</td>\n",
       "      <td>285</td>\n",
       "      <td>2.56</td>\n",
       "      <td>0.95</td>\n",
       "      <td>38.43</td>\n",
       "      <td>65.76</td>\n",
       "      <td>23.60</td>\n",
       "      <td>0.0</td>\n",
       "      <td>0.700000</td>\n",
       "      <td>2.600000</td>\n",
       "      <td>5.300000</td>\n",
       "      <td>263.5</td>\n",
       "      <td>263.5</td>\n",
       "    </tr>\n",
       "    <tr>\n",
       "      <th>3</th>\n",
       "      <td>32.17</td>\n",
       "      <td>43.43</td>\n",
       "      <td>19.68</td>\n",
       "      <td>0.9</td>\n",
       "      <td>-4.7</td>\n",
       "      <td>296</td>\n",
       "      <td>4.55</td>\n",
       "      <td>1.70</td>\n",
       "      <td>16.44</td>\n",
       "      <td>38.56</td>\n",
       "      <td>5.23</td>\n",
       "      <td>0.0</td>\n",
       "      <td>0.600000</td>\n",
       "      <td>2.300000</td>\n",
       "      <td>6.600000</td>\n",
       "      <td>263.5</td>\n",
       "      <td>263.5</td>\n",
       "    </tr>\n",
       "    <tr>\n",
       "      <th>4</th>\n",
       "      <td>32.30</td>\n",
       "      <td>41.90</td>\n",
       "      <td>21.26</td>\n",
       "      <td>8.7</td>\n",
       "      <td>1.5</td>\n",
       "      <td>290</td>\n",
       "      <td>3.97</td>\n",
       "      <td>1.39</td>\n",
       "      <td>26.68</td>\n",
       "      <td>47.56</td>\n",
       "      <td>9.52</td>\n",
       "      <td>0.0</td>\n",
       "      <td>0.600000</td>\n",
       "      <td>2.700000</td>\n",
       "      <td>6.700000</td>\n",
       "      <td>263.5</td>\n",
       "      <td>263.5</td>\n",
       "    </tr>\n",
       "    <tr>\n",
       "      <th>...</th>\n",
       "      <td>...</td>\n",
       "      <td>...</td>\n",
       "      <td>...</td>\n",
       "      <td>...</td>\n",
       "      <td>...</td>\n",
       "      <td>...</td>\n",
       "      <td>...</td>\n",
       "      <td>...</td>\n",
       "      <td>...</td>\n",
       "      <td>...</td>\n",
       "      <td>...</td>\n",
       "      <td>...</td>\n",
       "      <td>...</td>\n",
       "      <td>...</td>\n",
       "      <td>...</td>\n",
       "      <td>...</td>\n",
       "      <td>...</td>\n",
       "    </tr>\n",
       "    <tr>\n",
       "      <th>1776</th>\n",
       "      <td>26.19</td>\n",
       "      <td>27.22</td>\n",
       "      <td>25.43</td>\n",
       "      <td>19.0</td>\n",
       "      <td>17.9</td>\n",
       "      <td>0</td>\n",
       "      <td>1.18</td>\n",
       "      <td>1.04</td>\n",
       "      <td>65.12</td>\n",
       "      <td>68.01</td>\n",
       "      <td>57.11</td>\n",
       "      <td>5.4</td>\n",
       "      <td>0.000000</td>\n",
       "      <td>0.500000</td>\n",
       "      <td>5.263349</td>\n",
       "      <td>263.5</td>\n",
       "      <td>263.5</td>\n",
       "    </tr>\n",
       "    <tr>\n",
       "      <th>1777</th>\n",
       "      <td>26.21</td>\n",
       "      <td>26.42</td>\n",
       "      <td>25.51</td>\n",
       "      <td>17.4</td>\n",
       "      <td>17.2</td>\n",
       "      <td>0</td>\n",
       "      <td>1.40</td>\n",
       "      <td>1.28</td>\n",
       "      <td>58.50</td>\n",
       "      <td>60.93</td>\n",
       "      <td>57.18</td>\n",
       "      <td>0.0</td>\n",
       "      <td>0.000000</td>\n",
       "      <td>0.000000</td>\n",
       "      <td>5.263349</td>\n",
       "      <td>299.0</td>\n",
       "      <td>299.0</td>\n",
       "    </tr>\n",
       "    <tr>\n",
       "      <th>1778</th>\n",
       "      <td>26.31</td>\n",
       "      <td>26.47</td>\n",
       "      <td>26.10</td>\n",
       "      <td>16.0</td>\n",
       "      <td>15.3</td>\n",
       "      <td>0</td>\n",
       "      <td>1.58</td>\n",
       "      <td>1.48</td>\n",
       "      <td>53.43</td>\n",
       "      <td>56.89</td>\n",
       "      <td>51.64</td>\n",
       "      <td>0.0</td>\n",
       "      <td>0.000000</td>\n",
       "      <td>0.000000</td>\n",
       "      <td>5.263349</td>\n",
       "      <td>228.0</td>\n",
       "      <td>228.0</td>\n",
       "    </tr>\n",
       "    <tr>\n",
       "      <th>1779</th>\n",
       "      <td>23.58</td>\n",
       "      <td>23.92</td>\n",
       "      <td>22.89</td>\n",
       "      <td>14.9</td>\n",
       "      <td>14.1</td>\n",
       "      <td>2</td>\n",
       "      <td>1.20</td>\n",
       "      <td>1.13</td>\n",
       "      <td>58.56</td>\n",
       "      <td>61.86</td>\n",
       "      <td>56.71</td>\n",
       "      <td>0.0</td>\n",
       "      <td>0.732546</td>\n",
       "      <td>2.322147</td>\n",
       "      <td>5.263349</td>\n",
       "      <td>263.5</td>\n",
       "      <td>263.5</td>\n",
       "    </tr>\n",
       "    <tr>\n",
       "      <th>1780</th>\n",
       "      <td>21.87</td>\n",
       "      <td>22.60</td>\n",
       "      <td>20.94</td>\n",
       "      <td>3.8</td>\n",
       "      <td>3.4</td>\n",
       "      <td>93</td>\n",
       "      <td>1.81</td>\n",
       "      <td>1.66</td>\n",
       "      <td>30.93</td>\n",
       "      <td>32.73</td>\n",
       "      <td>29.15</td>\n",
       "      <td>0.0</td>\n",
       "      <td>0.732546</td>\n",
       "      <td>2.322147</td>\n",
       "      <td>5.263349</td>\n",
       "      <td>263.5</td>\n",
       "      <td>263.5</td>\n",
       "    </tr>\n",
       "  </tbody>\n",
       "</table>\n",
       "<p>1781 rows × 17 columns</p>\n",
       "</div>"
      ],
      "text/plain": [
       "      moy_Temp[°C]  max_Temp[°C]  min_Temp[°C]  moy_DewPoint[°C]  \\\n",
       "0            24.73         35.08         15.11              12.4   \n",
       "1            25.26         35.79         16.40              14.6   \n",
       "2            28.37         36.71         19.80              12.3   \n",
       "3            32.17         43.43         19.68               0.9   \n",
       "4            32.30         41.90         21.26               8.7   \n",
       "...            ...           ...           ...               ...   \n",
       "1776         26.19         27.22         25.43              19.0   \n",
       "1777         26.21         26.42         25.51              17.4   \n",
       "1778         26.31         26.47         26.10              16.0   \n",
       "1779         23.58         23.92         22.89              14.9   \n",
       "1780         21.87         22.60         20.94               3.8   \n",
       "\n",
       "      min_DewPoint[°C]  moy_SolarRadiation[W/m2]  moy_VPD[kPa]  min_VPD[kPa]  \\\n",
       "0                  8.8                       361          1.90          0.30   \n",
       "1                  8.0                       288          1.73          0.00   \n",
       "2                  7.4                       285          2.56          0.95   \n",
       "3                 -4.7                       296          4.55          1.70   \n",
       "4                  1.5                       290          3.97          1.39   \n",
       "...                ...                       ...           ...           ...   \n",
       "1776              17.9                         0          1.18          1.04   \n",
       "1777              17.2                         0          1.40          1.28   \n",
       "1778              15.3                         0          1.58          1.48   \n",
       "1779              14.1                         2          1.20          1.13   \n",
       "1780               3.4                        93          1.81          1.66   \n",
       "\n",
       "      moy_RelativeHumidity[%]  max_RelativeHumidity[%]  \\\n",
       "0                       51.87                    83.30   \n",
       "1                       59.06                    99.54   \n",
       "2                       38.43                    65.76   \n",
       "3                       16.44                    38.56   \n",
       "4                       26.68                    47.56   \n",
       "...                       ...                      ...   \n",
       "1776                    65.12                    68.01   \n",
       "1777                    58.50                    60.93   \n",
       "1778                    53.43                    56.89   \n",
       "1779                    58.56                    61.86   \n",
       "1780                    30.93                    32.73   \n",
       "\n",
       "      min_RelativeHumidity[%]  Somme_Precipitation[mm]  moy_WindSpeed[m/s]  \\\n",
       "0                       22.00                      0.0            0.500000   \n",
       "1                       19.84                      0.0            0.600000   \n",
       "2                       23.60                      0.0            0.700000   \n",
       "3                        5.23                      0.0            0.600000   \n",
       "4                        9.52                      0.0            0.600000   \n",
       "...                       ...                      ...                 ...   \n",
       "1776                    57.11                      5.4            0.000000   \n",
       "1777                    57.18                      0.0            0.000000   \n",
       "1778                    51.64                      0.0            0.000000   \n",
       "1779                    56.71                      0.0            0.732546   \n",
       "1780                    29.15                      0.0            0.732546   \n",
       "\n",
       "      max_WindSpeed[m/s]  max_WindSpeedMax[m/s]  moy_WindDirection[deg]  \\\n",
       "0               2.100000               4.400000                   263.5   \n",
       "1               1.700000               5.300000                   263.5   \n",
       "2               2.600000               5.300000                   263.5   \n",
       "3               2.300000               6.600000                   263.5   \n",
       "4               2.700000               6.700000                   263.5   \n",
       "...                  ...                    ...                     ...   \n",
       "1776            0.500000               5.263349                   263.5   \n",
       "1777            0.000000               5.263349                   299.0   \n",
       "1778            0.000000               5.263349                   228.0   \n",
       "1779            2.322147               5.263349                   263.5   \n",
       "1780            2.322147               5.263349                   263.5   \n",
       "\n",
       "      dernier_WindDirection[deg]  \n",
       "0                          263.5  \n",
       "1                          263.5  \n",
       "2                          263.5  \n",
       "3                          263.5  \n",
       "4                          263.5  \n",
       "...                          ...  \n",
       "1776                       263.5  \n",
       "1777                       299.0  \n",
       "1778                       228.0  \n",
       "1779                       263.5  \n",
       "1780                       263.5  \n",
       "\n",
       "[1781 rows x 17 columns]"
      ]
     },
     "execution_count": 35,
     "metadata": {},
     "output_type": "execute_result"
    }
   ],
   "source": [
    "features_mean"
   ]
  },
  {
   "cell_type": "code",
   "execution_count": 36,
   "id": "4375da18",
   "metadata": {
    "scrolled": true
   },
   "outputs": [
    {
     "data": {
      "text/plain": [
       "0       3.022535\n",
       "1       5.000000\n",
       "2       5.300000\n",
       "3       5.300000\n",
       "4       5.500000\n",
       "          ...   \n",
       "1776    0.600000\n",
       "1777    3.022535\n",
       "1778    3.022535\n",
       "1779    3.022535\n",
       "1780    3.022535\n",
       "Name: ETP quotidien [mm], Length: 1781, dtype: float64"
      ]
     },
     "execution_count": 36,
     "metadata": {},
     "output_type": "execute_result"
    }
   ],
   "source": [
    "target_mean"
   ]
  },
  {
   "cell_type": "code",
   "execution_count": 37,
   "id": "7cb5c03e",
   "metadata": {},
   "outputs": [
    {
     "data": {
      "text/plain": [
       "(1424, 17)"
      ]
     },
     "execution_count": 37,
     "metadata": {},
     "output_type": "execute_result"
    }
   ],
   "source": [
    "x = features_mean\n",
    "y = target_mean\n",
    "lab = preprocessing.LabelEncoder()\n",
    "y_transformed = lab.fit_transform(y)\n",
    "\n",
    "x_train,x_test,y_train,y_test = train_test_split(x, y_transformed, test_size=0.2)\n",
    "x_train.shape"
   ]
  },
  {
   "cell_type": "code",
   "execution_count": 38,
   "id": "ab52183d",
   "metadata": {},
   "outputs": [],
   "source": [
    "from sklearn.ensemble import RandomForestRegressor"
   ]
  },
  {
   "cell_type": "code",
   "execution_count": 39,
   "id": "361c56b4",
   "metadata": {},
   "outputs": [],
   "source": [
    "rand_forest_model = RandomForestRegressor(n_estimators=100, max_features=\"auto\", random_state=42)"
   ]
  },
  {
   "cell_type": "code",
   "execution_count": 40,
   "id": "85bf160c",
   "metadata": {},
   "outputs": [
    {
     "data": {
      "text/plain": [
       "RandomForestRegressor(random_state=42)"
      ]
     },
     "execution_count": 40,
     "metadata": {},
     "output_type": "execute_result"
    }
   ],
   "source": [
    "rand_forest_model.fit(x_train,y_train)"
   ]
  },
  {
   "cell_type": "code",
   "execution_count": 41,
   "id": "06966625",
   "metadata": {},
   "outputs": [
    {
     "data": {
      "text/plain": [
       "array([ 8.29,  9.27, 10.85, 23.95, 14.26, 15.63,  2.17,  5.69, 29.34,\n",
       "       13.63, 43.46, 46.51, 22.39, 22.56, 46.46, 46.03, 44.01, 46.35,\n",
       "       43.57,  6.  , 42.68, 12.96,  8.79,  5.92, 15.48, 24.58,  6.41,\n",
       "       10.41, 45.65, 22.13, 29.06, 21.5 , 51.61, 11.98, 32.69, 39.03,\n",
       "       56.5 , 42.74, 45.74,  5.2 , 14.34, 20.55, 17.51, 36.31, 30.45,\n",
       "       28.94,  9.32, 54.77, 39.95, 45.94, 30.35,  7.98, 39.88, 13.97,\n",
       "       38.17, 11.51, 54.02, 43.89, 10.5 , 17.39, 17.77, 19.33, 34.5 ,\n",
       "       41.02,  6.05,  6.32, 15.  ,  7.22, 18.01, 34.72, 30.46,  5.83,\n",
       "       47.4 , 44.85, 54.89, 50.22, 14.83, 31.56,  1.79, 45.8 , 21.85,\n",
       "       17.51, 10.89, 41.4 ,  9.88, 51.15, 21.2 , 44.99,  7.31, 30.47,\n",
       "       18.78, 51.14, 45.16, 30.92,  4.93, 52.76, 51.77,  9.48,  8.18,\n",
       "       30.25,  7.81,  8.69,  7.07, 43.92,  8.39, 19.78, 15.09, 14.64,\n",
       "       29.54,  5.09, 48.03, 50.97, 43.85, 30.15,  9.8 , 35.83, 10.25,\n",
       "        5.54, 47.  ,  6.8 , 47.28,  8.46,  6.17, 37.58, 35.81, 54.75,\n",
       "       25.29, 22.58, 13.47,  7.44, 10.67, 25.46, 18.15, 55.48, 42.78,\n",
       "       44.89, 22.17,  9.3 , 60.66, 27.85,  3.05,  5.97, 21.96, 51.02,\n",
       "        4.41,  9.  , 45.69,  6.4 ,  6.04, 15.17, 17.04, 32.23,  1.67,\n",
       "       35.06, 48.  , 35.61,  5.46, 11.3 , 19.85,  8.95, 39.18, 14.62,\n",
       "       12.82, 16.6 , 27.68, 19.85, 42.95,  5.08, 16.33,  5.71,  1.83,\n",
       "       13.79, 51.18,  6.4 , 19.5 ,  6.53,  3.18, 51.46,  7.71,  6.08,\n",
       "       15.27, 41.94,  2.18, 24.07, 21.85, 19.92, 43.79, 39.79, 22.  ,\n",
       "       24.38,  7.07, 42.04, 29.52, 19.88, 22.67, 45.74, 44.19, 43.33,\n",
       "       41.1 , 32.66, 15.38, 10.52, 41.92, 22.24, 10.31, 53.73, 28.89,\n",
       "       15.27,  5.35, 22.75,  5.41, 44.33, 14.54,  7.52, 39.77, 12.23,\n",
       "        8.44,  7.43, 52.06, 11.19, 41.45, 44.31, 46.65, 48.04, 41.68,\n",
       "       22.03,  7.14, 24.8 , 20.83, 39.72, 42.67,  6.35, 25.78,  5.78,\n",
       "       37.92, 13.37, 21.02,  5.06, 17.73, 16.08, 28.39, 31.52, 46.22,\n",
       "       55.41, 47.48, 12.77,  8.22, 55.73,  7.31, 30.2 , 11.2 , 16.29,\n",
       "       38.08, 24.42, 16.7 ,  4.57, 30.76, 47.73,  8.97, 15.25, 38.83,\n",
       "       46.57, 12.11, 18.27, 14.73, 48.25, 44.7 , 12.55,  2.71,  4.5 ,\n",
       "        6.53, 40.29, 17.86, 26.82,  6.12, 43.66, 25.42, 15.97, 18.36,\n",
       "        9.56, 23.24, 15.43, 23.01, 46.75, 30.3 , 32.24,  4.91,  1.56,\n",
       "       12.05, 20.57, 20.42, 50.03, 39.06,  7.09, 22.94, 43.09,  6.31,\n",
       "       35.  , 38.03, 29.02, 33.18,  6.76,  2.96, 17.57, 49.  , 12.41,\n",
       "       15.28, 42.91,  6.83, 49.17, 24.06, 42.5 , 50.11,  7.56, 34.92,\n",
       "       42.32,  5.89, 47.91, 14.25, 26.9 , 27.45, 18.08, 27.06, 19.9 ,\n",
       "       16.09, 34.56, 47.46,  1.69, 34.88, 48.88, 50.79, 42.33,  8.14,\n",
       "        6.8 , 40.42, 52.03,  5.81,  6.02, 23.  , 39.2 , 48.73,  8.18,\n",
       "        3.3 , 23.89, 40.95,  9.57, 50.3 ,  5.49, 52.29, 22.29,  9.96,\n",
       "       43.93, 43.95, 29.02, 10.35,  8.56,  6.56])"
      ]
     },
     "execution_count": 41,
     "metadata": {},
     "output_type": "execute_result"
    }
   ],
   "source": [
    "predictions = rand_forest_model.predict(x_test)\n",
    "predictions\n"
   ]
  },
  {
   "cell_type": "code",
   "execution_count": 42,
   "id": "8ce2130c",
   "metadata": {},
   "outputs": [
    {
     "data": {
      "text/plain": [
       "0.9802784727107675"
      ]
     },
     "execution_count": 42,
     "metadata": {},
     "output_type": "execute_result"
    }
   ],
   "source": [
    "rand_forest_model.score(x_test,y_test)"
   ]
  },
  {
   "cell_type": "code",
   "execution_count": 43,
   "id": "da81b501",
   "metadata": {},
   "outputs": [],
   "source": [
    "from sklearn import tree\n",
    "dtc_model = tree.DecisionTreeRegressor(max_depth=1100,random_state=42)"
   ]
  },
  {
   "cell_type": "code",
   "execution_count": 44,
   "id": "5d6acb0f",
   "metadata": {},
   "outputs": [
    {
     "data": {
      "text/plain": [
       "DecisionTreeRegressor(max_depth=1100, random_state=42)"
      ]
     },
     "execution_count": 44,
     "metadata": {},
     "output_type": "execute_result"
    }
   ],
   "source": [
    "dtc_model.fit(x_train,y_train)"
   ]
  },
  {
   "cell_type": "code",
   "execution_count": 45,
   "id": "7a9cc72b",
   "metadata": {},
   "outputs": [
    {
     "data": {
      "text/html": [
       "<div>\n",
       "<style scoped>\n",
       "    .dataframe tbody tr th:only-of-type {\n",
       "        vertical-align: middle;\n",
       "    }\n",
       "\n",
       "    .dataframe tbody tr th {\n",
       "        vertical-align: top;\n",
       "    }\n",
       "\n",
       "    .dataframe thead th {\n",
       "        text-align: right;\n",
       "    }\n",
       "</style>\n",
       "<table border=\"1\" class=\"dataframe\">\n",
       "  <thead>\n",
       "    <tr style=\"text-align: right;\">\n",
       "      <th></th>\n",
       "      <th>moy_Temp[°C]</th>\n",
       "      <th>max_Temp[°C]</th>\n",
       "      <th>min_Temp[°C]</th>\n",
       "      <th>moy_DewPoint[°C]</th>\n",
       "      <th>min_DewPoint[°C]</th>\n",
       "      <th>moy_SolarRadiation[W/m2]</th>\n",
       "      <th>moy_VPD[kPa]</th>\n",
       "      <th>min_VPD[kPa]</th>\n",
       "      <th>moy_RelativeHumidity[%]</th>\n",
       "      <th>max_RelativeHumidity[%]</th>\n",
       "      <th>min_RelativeHumidity[%]</th>\n",
       "      <th>Somme_Precipitation[mm]</th>\n",
       "      <th>moy_WindSpeed[m/s]</th>\n",
       "      <th>max_WindSpeed[m/s]</th>\n",
       "      <th>max_WindSpeedMax[m/s]</th>\n",
       "      <th>moy_WindDirection[deg]</th>\n",
       "      <th>dernier_WindDirection[deg]</th>\n",
       "    </tr>\n",
       "  </thead>\n",
       "  <tbody>\n",
       "    <tr>\n",
       "      <th>938</th>\n",
       "      <td>13.84</td>\n",
       "      <td>26.89</td>\n",
       "      <td>6.20</td>\n",
       "      <td>7.6</td>\n",
       "      <td>4.3</td>\n",
       "      <td>105</td>\n",
       "      <td>0.64</td>\n",
       "      <td>0.00</td>\n",
       "      <td>71.28</td>\n",
       "      <td>99.21</td>\n",
       "      <td>24.37</td>\n",
       "      <td>0.0</td>\n",
       "      <td>0.4</td>\n",
       "      <td>2.0</td>\n",
       "      <td>3.700000</td>\n",
       "      <td>263.5</td>\n",
       "      <td>263.5</td>\n",
       "    </tr>\n",
       "    <tr>\n",
       "      <th>266</th>\n",
       "      <td>10.91</td>\n",
       "      <td>20.05</td>\n",
       "      <td>2.85</td>\n",
       "      <td>5.4</td>\n",
       "      <td>2.6</td>\n",
       "      <td>151</td>\n",
       "      <td>0.48</td>\n",
       "      <td>0.00</td>\n",
       "      <td>73.39</td>\n",
       "      <td>99.23</td>\n",
       "      <td>35.62</td>\n",
       "      <td>0.0</td>\n",
       "      <td>0.3</td>\n",
       "      <td>1.6</td>\n",
       "      <td>8.100000</td>\n",
       "      <td>263.5</td>\n",
       "      <td>263.5</td>\n",
       "    </tr>\n",
       "    <tr>\n",
       "      <th>1703</th>\n",
       "      <td>13.01</td>\n",
       "      <td>24.61</td>\n",
       "      <td>3.74</td>\n",
       "      <td>-3.6</td>\n",
       "      <td>-5.5</td>\n",
       "      <td>146</td>\n",
       "      <td>1.19</td>\n",
       "      <td>0.37</td>\n",
       "      <td>34.35</td>\n",
       "      <td>54.10</td>\n",
       "      <td>15.74</td>\n",
       "      <td>0.0</td>\n",
       "      <td>0.4</td>\n",
       "      <td>1.8</td>\n",
       "      <td>5.263349</td>\n",
       "      <td>263.5</td>\n",
       "      <td>263.5</td>\n",
       "    </tr>\n",
       "    <tr>\n",
       "      <th>1598</th>\n",
       "      <td>12.89</td>\n",
       "      <td>17.91</td>\n",
       "      <td>9.41</td>\n",
       "      <td>8.1</td>\n",
       "      <td>6.1</td>\n",
       "      <td>185</td>\n",
       "      <td>0.41</td>\n",
       "      <td>0.14</td>\n",
       "      <td>73.68</td>\n",
       "      <td>89.62</td>\n",
       "      <td>47.40</td>\n",
       "      <td>1.2</td>\n",
       "      <td>1.9</td>\n",
       "      <td>4.7</td>\n",
       "      <td>11.800000</td>\n",
       "      <td>263.5</td>\n",
       "      <td>263.5</td>\n",
       "    </tr>\n",
       "    <tr>\n",
       "      <th>168</th>\n",
       "      <td>10.46</td>\n",
       "      <td>18.33</td>\n",
       "      <td>1.85</td>\n",
       "      <td>4.4</td>\n",
       "      <td>-1.4</td>\n",
       "      <td>180</td>\n",
       "      <td>0.48</td>\n",
       "      <td>0.00</td>\n",
       "      <td>69.86</td>\n",
       "      <td>99.34</td>\n",
       "      <td>30.82</td>\n",
       "      <td>0.0</td>\n",
       "      <td>0.7</td>\n",
       "      <td>2.4</td>\n",
       "      <td>5.000000</td>\n",
       "      <td>263.5</td>\n",
       "      <td>263.5</td>\n",
       "    </tr>\n",
       "    <tr>\n",
       "      <th>...</th>\n",
       "      <td>...</td>\n",
       "      <td>...</td>\n",
       "      <td>...</td>\n",
       "      <td>...</td>\n",
       "      <td>...</td>\n",
       "      <td>...</td>\n",
       "      <td>...</td>\n",
       "      <td>...</td>\n",
       "      <td>...</td>\n",
       "      <td>...</td>\n",
       "      <td>...</td>\n",
       "      <td>...</td>\n",
       "      <td>...</td>\n",
       "      <td>...</td>\n",
       "      <td>...</td>\n",
       "      <td>...</td>\n",
       "      <td>...</td>\n",
       "    </tr>\n",
       "    <tr>\n",
       "      <th>72</th>\n",
       "      <td>19.07</td>\n",
       "      <td>27.63</td>\n",
       "      <td>13.05</td>\n",
       "      <td>8.6</td>\n",
       "      <td>-2.9</td>\n",
       "      <td>324</td>\n",
       "      <td>1.13</td>\n",
       "      <td>0.01</td>\n",
       "      <td>60.97</td>\n",
       "      <td>99.20</td>\n",
       "      <td>13.91</td>\n",
       "      <td>0.0</td>\n",
       "      <td>0.6</td>\n",
       "      <td>1.8</td>\n",
       "      <td>3.900000</td>\n",
       "      <td>263.5</td>\n",
       "      <td>263.5</td>\n",
       "    </tr>\n",
       "    <tr>\n",
       "      <th>1030</th>\n",
       "      <td>20.63</td>\n",
       "      <td>29.97</td>\n",
       "      <td>12.45</td>\n",
       "      <td>12.9</td>\n",
       "      <td>9.9</td>\n",
       "      <td>214</td>\n",
       "      <td>1.07</td>\n",
       "      <td>0.02</td>\n",
       "      <td>65.40</td>\n",
       "      <td>98.15</td>\n",
       "      <td>37.46</td>\n",
       "      <td>0.0</td>\n",
       "      <td>0.6</td>\n",
       "      <td>1.9</td>\n",
       "      <td>5.600000</td>\n",
       "      <td>263.5</td>\n",
       "      <td>263.5</td>\n",
       "    </tr>\n",
       "    <tr>\n",
       "      <th>267</th>\n",
       "      <td>12.12</td>\n",
       "      <td>21.58</td>\n",
       "      <td>3.12</td>\n",
       "      <td>2.6</td>\n",
       "      <td>0.0</td>\n",
       "      <td>154</td>\n",
       "      <td>0.76</td>\n",
       "      <td>0.10</td>\n",
       "      <td>57.02</td>\n",
       "      <td>87.44</td>\n",
       "      <td>24.32</td>\n",
       "      <td>0.0</td>\n",
       "      <td>0.4</td>\n",
       "      <td>1.3</td>\n",
       "      <td>4.400000</td>\n",
       "      <td>263.5</td>\n",
       "      <td>263.5</td>\n",
       "    </tr>\n",
       "    <tr>\n",
       "      <th>546</th>\n",
       "      <td>8.26</td>\n",
       "      <td>17.12</td>\n",
       "      <td>0.97</td>\n",
       "      <td>2.7</td>\n",
       "      <td>-0.4</td>\n",
       "      <td>150</td>\n",
       "      <td>0.40</td>\n",
       "      <td>0.00</td>\n",
       "      <td>72.61</td>\n",
       "      <td>99.24</td>\n",
       "      <td>34.69</td>\n",
       "      <td>0.0</td>\n",
       "      <td>0.5</td>\n",
       "      <td>1.7</td>\n",
       "      <td>3.800000</td>\n",
       "      <td>263.5</td>\n",
       "      <td>263.5</td>\n",
       "    </tr>\n",
       "    <tr>\n",
       "      <th>815</th>\n",
       "      <td>12.68</td>\n",
       "      <td>15.69</td>\n",
       "      <td>10.47</td>\n",
       "      <td>12.3</td>\n",
       "      <td>10.3</td>\n",
       "      <td>80</td>\n",
       "      <td>0.02</td>\n",
       "      <td>0.00</td>\n",
       "      <td>98.38</td>\n",
       "      <td>99.41</td>\n",
       "      <td>90.51</td>\n",
       "      <td>1.4</td>\n",
       "      <td>1.1</td>\n",
       "      <td>2.7</td>\n",
       "      <td>6.300000</td>\n",
       "      <td>263.5</td>\n",
       "      <td>263.5</td>\n",
       "    </tr>\n",
       "  </tbody>\n",
       "</table>\n",
       "<p>357 rows × 17 columns</p>\n",
       "</div>"
      ],
      "text/plain": [
       "      moy_Temp[°C]  max_Temp[°C]  min_Temp[°C]  moy_DewPoint[°C]  \\\n",
       "938          13.84         26.89          6.20               7.6   \n",
       "266          10.91         20.05          2.85               5.4   \n",
       "1703         13.01         24.61          3.74              -3.6   \n",
       "1598         12.89         17.91          9.41               8.1   \n",
       "168          10.46         18.33          1.85               4.4   \n",
       "...            ...           ...           ...               ...   \n",
       "72           19.07         27.63         13.05               8.6   \n",
       "1030         20.63         29.97         12.45              12.9   \n",
       "267          12.12         21.58          3.12               2.6   \n",
       "546           8.26         17.12          0.97               2.7   \n",
       "815          12.68         15.69         10.47              12.3   \n",
       "\n",
       "      min_DewPoint[°C]  moy_SolarRadiation[W/m2]  moy_VPD[kPa]  min_VPD[kPa]  \\\n",
       "938                4.3                       105          0.64          0.00   \n",
       "266                2.6                       151          0.48          0.00   \n",
       "1703              -5.5                       146          1.19          0.37   \n",
       "1598               6.1                       185          0.41          0.14   \n",
       "168               -1.4                       180          0.48          0.00   \n",
       "...                ...                       ...           ...           ...   \n",
       "72                -2.9                       324          1.13          0.01   \n",
       "1030               9.9                       214          1.07          0.02   \n",
       "267                0.0                       154          0.76          0.10   \n",
       "546               -0.4                       150          0.40          0.00   \n",
       "815               10.3                        80          0.02          0.00   \n",
       "\n",
       "      moy_RelativeHumidity[%]  max_RelativeHumidity[%]  \\\n",
       "938                     71.28                    99.21   \n",
       "266                     73.39                    99.23   \n",
       "1703                    34.35                    54.10   \n",
       "1598                    73.68                    89.62   \n",
       "168                     69.86                    99.34   \n",
       "...                       ...                      ...   \n",
       "72                      60.97                    99.20   \n",
       "1030                    65.40                    98.15   \n",
       "267                     57.02                    87.44   \n",
       "546                     72.61                    99.24   \n",
       "815                     98.38                    99.41   \n",
       "\n",
       "      min_RelativeHumidity[%]  Somme_Precipitation[mm]  moy_WindSpeed[m/s]  \\\n",
       "938                     24.37                      0.0                 0.4   \n",
       "266                     35.62                      0.0                 0.3   \n",
       "1703                    15.74                      0.0                 0.4   \n",
       "1598                    47.40                      1.2                 1.9   \n",
       "168                     30.82                      0.0                 0.7   \n",
       "...                       ...                      ...                 ...   \n",
       "72                      13.91                      0.0                 0.6   \n",
       "1030                    37.46                      0.0                 0.6   \n",
       "267                     24.32                      0.0                 0.4   \n",
       "546                     34.69                      0.0                 0.5   \n",
       "815                     90.51                      1.4                 1.1   \n",
       "\n",
       "      max_WindSpeed[m/s]  max_WindSpeedMax[m/s]  moy_WindDirection[deg]  \\\n",
       "938                  2.0               3.700000                   263.5   \n",
       "266                  1.6               8.100000                   263.5   \n",
       "1703                 1.8               5.263349                   263.5   \n",
       "1598                 4.7              11.800000                   263.5   \n",
       "168                  2.4               5.000000                   263.5   \n",
       "...                  ...                    ...                     ...   \n",
       "72                   1.8               3.900000                   263.5   \n",
       "1030                 1.9               5.600000                   263.5   \n",
       "267                  1.3               4.400000                   263.5   \n",
       "546                  1.7               3.800000                   263.5   \n",
       "815                  2.7               6.300000                   263.5   \n",
       "\n",
       "      dernier_WindDirection[deg]  \n",
       "938                        263.5  \n",
       "266                        263.5  \n",
       "1703                       263.5  \n",
       "1598                       263.5  \n",
       "168                        263.5  \n",
       "...                          ...  \n",
       "72                         263.5  \n",
       "1030                       263.5  \n",
       "267                        263.5  \n",
       "546                        263.5  \n",
       "815                        263.5  \n",
       "\n",
       "[357 rows x 17 columns]"
      ]
     },
     "execution_count": 45,
     "metadata": {},
     "output_type": "execute_result"
    }
   ],
   "source": [
    "predictions_dtc = dtc_model.predict(x_test)\n",
    "x_test"
   ]
  },
  {
   "cell_type": "code",
   "execution_count": 46,
   "id": "10648c2b",
   "metadata": {},
   "outputs": [
    {
     "data": {
      "text/plain": [
       "array([ 5.,  7., 12., 27., 13., 17.,  2.,  3., 29., 15., 43., 46., 24.,\n",
       "       31., 50., 48., 43., 47., 43.,  7., 43., 11.,  6.,  4., 17., 21.,\n",
       "        5., 11., 46., 21., 29., 19., 52., 19., 35., 40., 55., 45., 46.,\n",
       "        4., 14., 19., 17., 39., 34., 36.,  9., 54., 42., 47., 28.,  7.,\n",
       "       39., 12., 39., 12., 55., 43., 11., 15., 19., 18., 42., 43.,  5.,\n",
       "        6., 19., 11., 26., 37., 27.,  6., 50., 44., 50., 51., 14., 30.,\n",
       "        1., 46., 20., 17.,  8., 40., 12., 50., 19., 47.,  8., 29., 22.,\n",
       "       51., 48., 30.,  4., 50., 56., 14.,  8., 29.,  8.,  9.,  7., 43.,\n",
       "        7., 25., 17., 17., 27.,  3., 48., 52., 44., 30.,  5., 38., 16.,\n",
       "        5., 47.,  7., 48.,  9.,  6., 39., 35., 57., 22., 23., 10.,  7.,\n",
       "       10., 28., 16., 50., 44., 46., 20.,  9., 65., 35.,  2.,  4., 27.,\n",
       "       52.,  3.,  9., 47.,  9.,  5., 13., 16., 32.,  2., 39., 48., 35.,\n",
       "        6., 12., 19.,  9., 39., 11., 14., 15., 28., 21., 42.,  6., 17.,\n",
       "        4.,  2., 14., 49.,  7., 19.,  6.,  2., 52., 16.,  5., 19., 43.,\n",
       "        3., 23., 23., 24., 43., 43., 18., 25.,  7., 42., 28., 20., 22.,\n",
       "       45., 46., 43., 37., 33., 12.,  9., 39., 27., 12., 51., 34., 15.,\n",
       "        5., 24.,  5., 44., 12.,  9., 41., 11., 13., 10., 53., 12., 40.,\n",
       "       46., 47., 49., 41., 18.,  9., 22., 20., 39., 42.,  8., 27.,  5.,\n",
       "       39.,  9., 21.,  4., 20., 16., 28., 32., 45., 53., 48., 12., 10.,\n",
       "       55.,  6., 32., 10., 17., 37., 33., 17.,  5., 28., 48., 15., 17.,\n",
       "       39., 49.,  8., 19., 15., 49., 44., 11.,  2.,  6.,  4., 39., 17.,\n",
       "       29.,  6., 45., 24., 14., 17., 11., 21., 20., 27., 45., 29., 32.,\n",
       "        4.,  1.,  8., 17., 19., 52., 39.,  9., 27., 43.,  5., 38., 38.,\n",
       "       28., 30.,  7.,  3., 17., 51., 15., 11., 42.,  6., 53., 21., 38.,\n",
       "       54.,  7., 29., 42.,  6., 48., 20., 22., 24., 20., 29., 20., 18.,\n",
       "       30., 49.,  2., 32., 51., 48., 42.,  9.,  7., 40., 52.,  6.,  6.,\n",
       "       24., 40., 50.,  8.,  2., 22., 42., 10., 48.,  5., 52., 24.,  8.,\n",
       "       44., 45., 29.,  9.,  8.,  4.])"
      ]
     },
     "execution_count": 46,
     "metadata": {},
     "output_type": "execute_result"
    }
   ],
   "source": [
    "predictions_dtc"
   ]
  },
  {
   "cell_type": "code",
   "execution_count": 47,
   "id": "8a5f5e88",
   "metadata": {},
   "outputs": [
    {
     "data": {
      "text/plain": [
       "0.962949765146955"
      ]
     },
     "execution_count": 47,
     "metadata": {},
     "output_type": "execute_result"
    }
   ],
   "source": [
    "dtc_model.score(x_test,y_test)"
   ]
  },
  {
   "cell_type": "code",
   "execution_count": 48,
   "id": "5403f21f",
   "metadata": {},
   "outputs": [
    {
     "data": {
      "text/plain": [
       "SVR()"
      ]
     },
     "execution_count": 48,
     "metadata": {},
     "output_type": "execute_result"
    }
   ],
   "source": [
    "from sklearn.svm import SVR\n",
    "svr_model = SVR()\n",
    "svr_model.fit(x_train,y_train)"
   ]
  },
  {
   "cell_type": "code",
   "execution_count": 49,
   "id": "4f4785e1",
   "metadata": {},
   "outputs": [],
   "source": [
    "predictions_svr = svr_model.predict(x_test)"
   ]
  },
  {
   "cell_type": "code",
   "execution_count": 50,
   "id": "0485f833",
   "metadata": {},
   "outputs": [
    {
     "data": {
      "text/plain": [
       "0.9047474203670726"
      ]
     },
     "execution_count": 50,
     "metadata": {},
     "output_type": "execute_result"
    }
   ],
   "source": [
    "svr_model.score(x_test,y_test)"
   ]
  },
  {
   "cell_type": "code",
   "execution_count": 51,
   "id": "d5b633cc",
   "metadata": {},
   "outputs": [],
   "source": [
    "from sklearn.neighbors import KNeighborsRegressor\n",
    "knn_model = KNeighborsRegressor(n_neighbors=3)"
   ]
  },
  {
   "cell_type": "code",
   "execution_count": 52,
   "id": "aff7e952",
   "metadata": {},
   "outputs": [
    {
     "data": {
      "text/plain": [
       "KNeighborsRegressor(n_neighbors=3)"
      ]
     },
     "execution_count": 52,
     "metadata": {},
     "output_type": "execute_result"
    }
   ],
   "source": [
    "knn_model.fit(x_train,y_train) "
   ]
  },
  {
   "cell_type": "code",
   "execution_count": 53,
   "id": "7b4637fe",
   "metadata": {},
   "outputs": [],
   "source": [
    "predictions_knn = knn_model.predict(x_test)"
   ]
  },
  {
   "cell_type": "code",
   "execution_count": 54,
   "id": "f7310036",
   "metadata": {},
   "outputs": [
    {
     "data": {
      "text/plain": [
       "array([11.        ,  9.        , 12.66666667, 22.33333333, 15.        ,\n",
       "       15.66666667,  2.33333333,  7.33333333, 28.33333333, 14.33333333,\n",
       "       44.66666667, 46.33333333, 19.66666667, 27.        , 46.        ,\n",
       "       43.66666667, 45.66666667, 37.66666667, 45.        ,  7.        ,\n",
       "       42.        , 12.33333333,  6.33333333,  4.66666667, 16.33333333,\n",
       "       24.66666667,  6.66666667,  8.        , 45.66666667, 25.        ,\n",
       "       24.66666667, 17.33333333, 49.33333333, 10.33333333, 36.66666667,\n",
       "       38.66666667, 52.66666667, 45.33333333, 46.33333333,  6.33333333,\n",
       "       13.66666667, 18.66666667, 22.33333333, 39.        , 28.        ,\n",
       "       33.33333333,  8.33333333, 58.        , 40.66666667, 47.        ,\n",
       "       29.33333333,  9.        , 40.        , 15.        , 37.66666667,\n",
       "       13.66666667, 50.33333333, 43.66666667, 10.        , 16.66666667,\n",
       "       16.33333333, 19.66666667, 31.        , 42.66666667,  6.33333333,\n",
       "        6.33333333, 15.66666667,  5.33333333, 10.33333333, 31.        ,\n",
       "       30.33333333,  6.        , 46.33333333, 45.66666667, 47.33333333,\n",
       "       51.        , 13.33333333, 33.66666667,  2.        , 51.33333333,\n",
       "       22.        , 21.        ,  7.        , 40.33333333,  6.33333333,\n",
       "       52.66666667, 19.        , 46.        ,  8.33333333, 31.66666667,\n",
       "       17.        , 51.33333333, 42.33333333, 28.        ,  4.33333333,\n",
       "       52.33333333, 47.66666667,  9.66666667,  8.66666667, 26.66666667,\n",
       "        6.33333333, 11.66666667,  7.66666667, 44.33333333,  7.66666667,\n",
       "       17.33333333, 15.66666667, 10.        , 32.33333333,  2.        ,\n",
       "       49.33333333, 49.33333333, 47.33333333, 32.66666667,  7.        ,\n",
       "       34.        , 11.33333333,  5.        , 46.33333333,  6.33333333,\n",
       "       45.        ,  8.33333333,  4.66666667, 36.        , 36.        ,\n",
       "       54.66666667, 23.        , 21.        , 12.66666667,  8.        ,\n",
       "       12.33333333, 26.        , 21.66666667, 49.        , 45.        ,\n",
       "       44.33333333, 25.        ,  8.33333333, 53.33333333, 21.        ,\n",
       "        2.33333333,  6.66666667, 19.        , 52.        ,  6.66666667,\n",
       "        6.33333333, 44.        ,  4.66666667,  5.        , 15.66666667,\n",
       "       13.66666667, 33.33333333,  1.        , 30.33333333, 47.        ,\n",
       "       37.33333333,  6.33333333,  5.        , 20.66666667,  8.33333333,\n",
       "       39.66666667, 16.        , 14.33333333, 15.        , 26.66666667,\n",
       "       19.        , 41.66666667,  6.        , 11.66666667,  4.66666667,\n",
       "        2.        , 15.        , 48.66666667,  6.66666667, 17.66666667,\n",
       "        6.        ,  2.66666667, 50.66666667,  8.        ,  7.33333333,\n",
       "       15.        , 41.66666667,  2.        , 24.66666667, 23.66666667,\n",
       "       19.33333333, 43.33333333, 38.        , 22.33333333, 24.        ,\n",
       "        5.        , 45.33333333, 33.        , 12.        , 21.        ,\n",
       "       46.        , 40.33333333, 47.        , 43.66666667, 32.33333333,\n",
       "       14.66666667, 10.        , 40.33333333, 23.66666667, 12.33333333,\n",
       "       53.33333333, 28.33333333, 11.        ,  6.33333333, 18.        ,\n",
       "        6.33333333, 42.33333333, 14.66666667,  7.        , 42.33333333,\n",
       "       16.        ,  9.66666667,  7.33333333, 57.        , 13.33333333,\n",
       "       40.33333333, 43.33333333, 44.33333333, 48.        , 43.        ,\n",
       "       22.        ,  6.33333333, 37.66666667, 23.        , 43.33333333,\n",
       "       42.66666667,  7.        , 21.66666667,  5.66666667, 38.33333333,\n",
       "       13.33333333, 21.        ,  3.66666667, 17.66666667, 15.        ,\n",
       "       28.66666667, 30.        , 46.        , 53.33333333, 46.66666667,\n",
       "        9.66666667, 10.33333333, 53.33333333, 12.        , 23.66666667,\n",
       "       13.66666667, 17.66666667, 38.        , 39.        , 18.33333333,\n",
       "        6.        , 37.33333333, 46.        , 13.33333333, 15.        ,\n",
       "       41.66666667, 50.66666667,  9.33333333, 14.        , 19.66666667,\n",
       "       48.        , 43.66666667, 13.        ,  2.        ,  4.        ,\n",
       "        6.        , 32.66666667, 15.        , 24.33333333,  5.33333333,\n",
       "       44.66666667, 28.66666667, 18.33333333, 21.33333333,  8.33333333,\n",
       "       24.66666667, 15.33333333, 22.        , 46.        , 28.33333333,\n",
       "       30.        ,  3.66666667,  1.66666667, 12.        , 20.33333333,\n",
       "       21.66666667, 49.        , 37.66666667, 14.        , 20.        ,\n",
       "       42.66666667,  5.66666667, 34.        , 36.66666667, 27.66666667,\n",
       "       34.        ,  7.33333333,  3.33333333, 19.66666667, 40.33333333,\n",
       "       13.        , 16.        , 43.66666667,  5.33333333, 46.66666667,\n",
       "       27.66666667, 40.66666667, 43.66666667,  5.33333333, 36.33333333,\n",
       "       42.        ,  6.33333333, 46.33333333, 15.66666667, 28.        ,\n",
       "       28.        , 17.33333333, 18.        , 20.66666667, 14.33333333,\n",
       "       32.66666667, 45.33333333,  1.33333333, 41.66666667, 48.        ,\n",
       "       51.66666667, 48.66666667,  6.        ,  7.        , 44.33333333,\n",
       "       53.66666667,  6.        ,  7.33333333, 13.        , 39.33333333,\n",
       "       51.        , 10.66666667,  4.        , 21.33333333, 42.        ,\n",
       "        8.66666667, 51.        ,  4.66666667, 50.33333333, 21.33333333,\n",
       "        9.66666667, 44.33333333, 43.66666667, 31.        , 11.        ,\n",
       "        8.66666667,  8.33333333])"
      ]
     },
     "execution_count": 54,
     "metadata": {},
     "output_type": "execute_result"
    }
   ],
   "source": [
    "predictions_knn"
   ]
  },
  {
   "cell_type": "code",
   "execution_count": 55,
   "id": "f922cbf7",
   "metadata": {},
   "outputs": [
    {
     "data": {
      "text/plain": [
       "0.9506482223614018"
      ]
     },
     "execution_count": 55,
     "metadata": {},
     "output_type": "execute_result"
    }
   ],
   "source": [
    "knn_model.score(x_test,y_test)"
   ]
  },
  {
   "cell_type": "code",
   "execution_count": 56,
   "id": "e607b7fe",
   "metadata": {},
   "outputs": [
    {
     "data": {
      "text/plain": [
       "0.9802784727107675"
      ]
     },
     "execution_count": 56,
     "metadata": {},
     "output_type": "execute_result"
    }
   ],
   "source": [
    "from sklearn.metrics import mean_squared_error, mean_absolute_percentage_error, explained_variance_score, r2_score\n",
    "r2 = []\n",
    "evs = []\n",
    "mape = []\n",
    "mse = []\n",
    "r2.append(r2_score(y_test,predictions))\n",
    "r2_score(y_test,predictions)"
   ]
  },
  {
   "cell_type": "code",
   "execution_count": 57,
   "id": "4ff59522",
   "metadata": {},
   "outputs": [
    {
     "data": {
      "text/plain": [
       "0.9804340220535444"
      ]
     },
     "execution_count": 57,
     "metadata": {},
     "output_type": "execute_result"
    }
   ],
   "source": [
    "evs.append(explained_variance_score(y_test,predictions))\n",
    "explained_variance_score(y_test,predictions)"
   ]
  },
  {
   "cell_type": "code",
   "execution_count": 58,
   "id": "c156a15a",
   "metadata": {},
   "outputs": [
    {
     "data": {
      "text/plain": [
       "0.1108765252398609"
      ]
     },
     "execution_count": 58,
     "metadata": {},
     "output_type": "execute_result"
    }
   ],
   "source": [
    "mape.append(mean_absolute_percentage_error(y_test,predictions))\n",
    "mean_absolute_percentage_error(y_test,predictions)"
   ]
  },
  {
   "cell_type": "code",
   "execution_count": 59,
   "id": "92b01e62",
   "metadata": {},
   "outputs": [
    {
     "data": {
      "text/plain": [
       "2.358910694338712"
      ]
     },
     "execution_count": 59,
     "metadata": {},
     "output_type": "execute_result"
    }
   ],
   "source": [
    "mse.append(np.sqrt(mean_squared_error(y_test,predictions)))\n",
    "np.sqrt(mean_squared_error(y_test,predictions))"
   ]
  },
  {
   "cell_type": "code",
   "execution_count": 60,
   "id": "206cea52",
   "metadata": {},
   "outputs": [
    {
     "data": {
      "text/plain": [
       "0.019721527289232488"
      ]
     },
     "execution_count": 60,
     "metadata": {},
     "output_type": "execute_result"
    }
   ],
   "source": [
    "err_rf = 1 - rand_forest_model.score(x_test,y_test)\n",
    "err_rf"
   ]
  },
  {
   "cell_type": "code",
   "execution_count": 61,
   "id": "ff39f995",
   "metadata": {},
   "outputs": [
    {
     "data": {
      "text/plain": [
       "[0.019753970071246574,\n",
       " 0.021264198997139383,\n",
       " 0.020948825805223503,\n",
       " 0.020151866710183652,\n",
       " 0.020213686843807865,\n",
       " 0.020278630540126463,\n",
       " 0.02024932661365364,\n",
       " 0.01994271921407731,\n",
       " 0.019979037513538578,\n",
       " 0.019721527289232488]"
      ]
     },
     "execution_count": 61,
     "metadata": {},
     "output_type": "execute_result"
    }
   ],
   "source": [
    "errs_rf = []\n",
    "for i in range(10,101,10):\n",
    "    rf = RandomForestRegressor(n_estimators=i, max_features=\"auto\", random_state=42).fit(x_train,y_train)\n",
    "    err = 1 - rf.score(x_test,y_test)\n",
    "    errs_rf.append(err)\n",
    "errs_rf"
   ]
  },
  {
   "cell_type": "code",
   "execution_count": 62,
   "id": "444355da",
   "metadata": {},
   "outputs": [
    {
     "data": {
      "image/png": "[encoded data removed]",
      "text/plain": [
       "<Figure size 432x288 with 1 Axes>"
      ]
     },
     "metadata": {
      "needs_background": "light"
     },
     "output_type": "display_data"
    }
   ],
   "source": [
    "plt.plot(np.array(range(10,101,10)),errs_rf)\n",
    "plt.show()"
   ]
  },
  {
   "cell_type": "code",
   "execution_count": 63,
   "id": "59e0e246",
   "metadata": {},
   "outputs": [
    {
     "data": {
      "text/plain": [
       "0.962949765146955"
      ]
     },
     "execution_count": 63,
     "metadata": {},
     "output_type": "execute_result"
    }
   ],
   "source": [
    "r2.append(r2_score(y_test,predictions_dtc))\n",
    "r2_score(y_test,predictions_dtc)"
   ]
  },
  {
   "cell_type": "code",
   "execution_count": 64,
   "id": "417dd9ac",
   "metadata": {},
   "outputs": [
    {
     "data": {
      "text/plain": [
       "0.9629782412837576"
      ]
     },
     "execution_count": 64,
     "metadata": {},
     "output_type": "execute_result"
    }
   ],
   "source": [
    "evs.append(explained_variance_score(y_test,predictions_dtc))\n",
    "explained_variance_score(y_test,predictions_dtc)"
   ]
  },
  {
   "cell_type": "code",
   "execution_count": 65,
   "id": "a80a7045",
   "metadata": {},
   "outputs": [
    {
     "data": {
      "text/plain": [
       "0.1494202883610627"
      ]
     },
     "execution_count": 65,
     "metadata": {},
     "output_type": "execute_result"
    }
   ],
   "source": [
    "mape.append(mean_absolute_percentage_error(y_test,predictions_dtc))\n",
    "mean_absolute_percentage_error(y_test,predictions_dtc)"
   ]
  },
  {
   "cell_type": "code",
   "execution_count": 66,
   "id": "246638fe",
   "metadata": {},
   "outputs": [
    {
     "data": {
      "text/plain": [
       "3.2332308164752237"
      ]
     },
     "execution_count": 66,
     "metadata": {},
     "output_type": "execute_result"
    }
   ],
   "source": [
    "mse.append(np.sqrt(mean_squared_error(y_test,predictions_dtc)))\n",
    "np.sqrt(mean_squared_error(y_test,predictions_dtc))"
   ]
  },
  {
   "cell_type": "code",
   "execution_count": 67,
   "id": "92b70530",
   "metadata": {},
   "outputs": [
    {
     "data": {
      "text/plain": [
       "0.03705023485304504"
      ]
     },
     "execution_count": 67,
     "metadata": {},
     "output_type": "execute_result"
    }
   ],
   "source": [
    "dtc_err = 1 - dtc_model.score(x_test,y_test)\n",
    "dtc_err"
   ]
  },
  {
   "cell_type": "code",
   "execution_count": 68,
   "id": "73c98b81",
   "metadata": {},
   "outputs": [
    {
     "data": {
      "text/plain": [
       "[0.03414141416388583,\n",
       " 0.036782186530153305,\n",
       " 0.04158720091088042,\n",
       " 0.03696088541208109,\n",
       " 0.0352136074554531,\n",
       " 0.036672981657864034,\n",
       " 0.038092644997624325,\n",
       " 0.03664319851087605,\n",
       " 0.037427488048226154,\n",
       " 0.03686160825545448,\n",
       " 0.035769559532562,\n",
       " 0.0362758730313576,\n",
       " 0.0410610319807595,\n",
       " 0.03533274004340492,\n",
       " 0.037010523990394395,\n",
       " 0.041567345479555096,\n",
       " 0.03617659587473099,\n",
       " 0.0382514884482269,\n",
       " 0.041775827508470975,\n",
       " 0.03812242814461231,\n",
       " 0.038181994438588274,\n",
       " 0.04277852679039951,\n",
       " 0.037536692920515424,\n",
       " 0.03937332031810736,\n",
       " 0.04193467095907355,\n",
       " 0.037874235253045785,\n",
       " 0.03926411544581809,\n",
       " 0.03698074084340641,\n",
       " 0.034945559132561255,\n",
       " 0.039601657778348565,\n",
       " 0.04073341736389169,\n",
       " 0.038628741643407905,\n",
       " 0.03790401840003377,\n",
       " 0.03882729595666112,\n",
       " 0.03768560865545523,\n",
       " 0.036236162168706954,\n",
       " 0.037000596274731734,\n",
       " 0.038638669359070565,\n",
       " 0.038628741643407905,\n",
       " 0.036454571913285494,\n",
       " 0.04400956353256935,\n",
       " 0.040455441325337294,\n",
       " 0.03705023485304504,\n",
       " 0.03877765737834782]"
      ]
     },
     "execution_count": 68,
     "metadata": {},
     "output_type": "execute_result"
    }
   ],
   "source": [
    "errs_dtc = []\n",
    "for i in range(44):\n",
    "    dtc = tree.DecisionTreeRegressor(max_depth=1100,random_state=i)\n",
    "    dtc.fit(x_train,y_train)\n",
    "    err = 1 - dtc.score(x_test,y_test)\n",
    "    errs_dtc.append(err)\n",
    "errs_dtc"
   ]
  },
  {
   "cell_type": "code",
   "execution_count": 69,
   "id": "97c0838b",
   "metadata": {},
   "outputs": [
    {
     "data": {
      "image/png": "[encoded data removed]",
      "text/plain": [
       "<Figure size 432x288 with 1 Axes>"
      ]
     },
     "metadata": {
      "needs_background": "light"
     },
     "output_type": "display_data"
    }
   ],
   "source": [
    "plt.plot(np.array(range(44)),errs_dtc)\n",
    "plt.show()"
   ]
  },
  {
   "cell_type": "code",
   "execution_count": 70,
   "id": "ceb14df5",
   "metadata": {},
   "outputs": [
    {
     "data": {
      "text/plain": [
       "0.9047474203670726"
      ]
     },
     "execution_count": 70,
     "metadata": {},
     "output_type": "execute_result"
    }
   ],
   "source": [
    "r2.append(r2_score(y_test,predictions_svr))\n",
    "r2_score(y_test,predictions_svr)"
   ]
  },
  {
   "cell_type": "code",
   "execution_count": 71,
   "id": "0f0458a4",
   "metadata": {},
   "outputs": [
    {
     "data": {
      "text/plain": [
       "0.9047675801708351"
      ]
     },
     "execution_count": 71,
     "metadata": {},
     "output_type": "execute_result"
    }
   ],
   "source": [
    "evs.append(explained_variance_score(y_test,predictions_svr))\n",
    "explained_variance_score(y_test,predictions_svr)"
   ]
  },
  {
   "cell_type": "code",
   "execution_count": 72,
   "id": "868aa689",
   "metadata": {},
   "outputs": [
    {
     "data": {
      "text/plain": [
       "0.24249699931279178"
      ]
     },
     "execution_count": 72,
     "metadata": {},
     "output_type": "execute_result"
    }
   ],
   "source": [
    "mape.append(mean_absolute_percentage_error(y_test,predictions_svr))\n",
    "mean_absolute_percentage_error(y_test,predictions_svr)"
   ]
  },
  {
   "cell_type": "code",
   "execution_count": 73,
   "id": "2c92996f",
   "metadata": {},
   "outputs": [
    {
     "data": {
      "text/plain": [
       "5.184174361465055"
      ]
     },
     "execution_count": 73,
     "metadata": {},
     "output_type": "execute_result"
    }
   ],
   "source": [
    "mse.append(np.sqrt(mean_squared_error(y_test,predictions_svr)))\n",
    "np.sqrt(mean_squared_error(y_test,predictions_svr))"
   ]
  },
  {
   "cell_type": "code",
   "execution_count": 74,
   "id": "896f717c",
   "metadata": {},
   "outputs": [
    {
     "data": {
      "text/plain": [
       "0.09525257963292744"
      ]
     },
     "execution_count": 74,
     "metadata": {},
     "output_type": "execute_result"
    }
   ],
   "source": [
    "err_svr = 1 - svr_model.score(x_test,y_test)\n",
    "err_svr"
   ]
  },
  {
   "cell_type": "code",
   "execution_count": 75,
   "id": "18f37212",
   "metadata": {},
   "outputs": [
    {
     "data": {
      "text/plain": [
       "0.9506482223614018"
      ]
     },
     "execution_count": 75,
     "metadata": {},
     "output_type": "execute_result"
    }
   ],
   "source": [
    "r2.append(r2_score(y_test,predictions_knn))\n",
    "r2_score(y_test,predictions_knn)"
   ]
  },
  {
   "cell_type": "code",
   "execution_count": 76,
   "id": "72cb29d3",
   "metadata": {},
   "outputs": [
    {
     "data": {
      "text/plain": [
       "0.9513424394308769"
      ]
     },
     "execution_count": 76,
     "metadata": {},
     "output_type": "execute_result"
    }
   ],
   "source": [
    "evs.append(explained_variance_score(y_test,predictions_knn))\n",
    "explained_variance_score(y_test,predictions_knn)"
   ]
  },
  {
   "cell_type": "code",
   "execution_count": 77,
   "id": "8cd08546",
   "metadata": {},
   "outputs": [
    {
     "data": {
      "text/plain": [
       "0.14909160685487896"
      ]
     },
     "execution_count": 77,
     "metadata": {},
     "output_type": "execute_result"
    }
   ],
   "source": [
    "mape.append(mean_absolute_percentage_error(y_test,predictions_knn))\n",
    "mean_absolute_percentage_error(y_test,predictions_knn)"
   ]
  },
  {
   "cell_type": "code",
   "execution_count": 78,
   "id": "105cc725",
   "metadata": {},
   "outputs": [
    {
     "data": {
      "text/plain": [
       "3.7315788861425014"
      ]
     },
     "execution_count": 78,
     "metadata": {},
     "output_type": "execute_result"
    }
   ],
   "source": [
    "mse.append(np.sqrt(mean_squared_error(y_test,predictions_knn)))\n",
    "np.sqrt(mean_squared_error(y_test,predictions_knn))"
   ]
  },
  {
   "cell_type": "code",
   "execution_count": 79,
   "id": "8cdcdc3a",
   "metadata": {},
   "outputs": [
    {
     "data": {
      "text/plain": [
       "0.049351777638598215"
      ]
     },
     "execution_count": 79,
     "metadata": {},
     "output_type": "execute_result"
    }
   ],
   "source": [
    "err_knn = 1 - knn_model.score(x_test,y_test)\n",
    "err_knn"
   ]
  },
  {
   "cell_type": "code",
   "execution_count": 80,
   "id": "507e66a1",
   "metadata": {},
   "outputs": [
    {
     "data": {
      "text/plain": [
       "[0.049351777638598215,\n",
       " 0.04884622250697124,\n",
       " 0.051386650487178276,\n",
       " 0.053115484954264214,\n",
       " 0.05272103272333195,\n",
       " 0.05347470969357171,\n",
       " 0.0549137496975054,\n",
       " 0.056236935251327225,\n",
       " 0.05641018291483668,\n",
       " 0.05632992761239963,\n",
       " 0.05716784011328968,\n",
       " 0.0573675075631197,\n",
       " 0.057449616750316235,\n",
       " 0.05771873057908006,\n",
       " 0.05790269738733633,\n",
       " 0.058469281395232775,\n",
       " 0.0584250191837119,\n",
       " 0.05909854965251049,\n",
       " 0.059402768065359046,\n",
       " 0.059479098274960895,\n",
       " 0.05985907713673766,\n",
       " 0.060383555249526655,\n",
       " 0.060962241988542054,\n",
       " 0.061275329666925615,\n",
       " 0.06105364009602343,\n",
       " 0.0615207243567244,\n",
       " 0.06178045788047282]"
      ]
     },
     "execution_count": 80,
     "metadata": {},
     "output_type": "execute_result"
    }
   ],
   "source": [
    "errs_knn = []\n",
    "for i in range(3,30):\n",
    "        knn = KNeighborsRegressor(n_neighbors=i)\n",
    "        knn.fit(x_train,y_train)\n",
    "        errs_knn.append(1-knn.score(x_test,y_test))\n",
    "errs_knn"
   ]
  },
  {
   "cell_type": "code",
   "execution_count": 81,
   "id": "d058437b",
   "metadata": {},
   "outputs": [
    {
     "data": {
      "image/png": "[encoded data removed]",
      "text/plain": [
       "<Figure size 432x288 with 1 Axes>"
      ]
     },
     "metadata": {
      "needs_background": "light"
     },
     "output_type": "display_data"
    }
   ],
   "source": [
    "plt.plot(np.array(range(3,30)),errs_knn)\n",
    "plt.show()"
   ]
  },
  {
   "cell_type": "code",
   "execution_count": 82,
   "id": "4821afc4",
   "metadata": {},
   "outputs": [],
   "source": [
    "scores = [rand_forest_model.score(x_test,y_test),dtc_model.score(x_test,y_test),svr_model.score(x_test,y_test),knn_model.score(x_test,y_test)]"
   ]
  },
  {
   "cell_type": "code",
   "execution_count": 83,
   "id": "d530ecdc",
   "metadata": {},
   "outputs": [
    {
     "data": {
      "text/plain": [
       "[0.9802784727107675, 0.962949765146955, 0.9047474203670726, 0.9506482223614018]"
      ]
     },
     "execution_count": 83,
     "metadata": {},
     "output_type": "execute_result"
    }
   ],
   "source": [
    "scores"
   ]
  },
  {
   "cell_type": "code",
   "execution_count": 84,
   "id": "93e0dce0",
   "metadata": {},
   "outputs": [],
   "source": [
    "mod=['RF','DT','SVR','KNN']"
   ]
  },
  {
   "cell_type": "code",
   "execution_count": 85,
   "id": "c52f1107",
   "metadata": {
    "scrolled": true
   },
   "outputs": [
    {
     "data": {
      "image/png": "[encoded data removed]",
      "text/plain": [
       "<Figure size 432x288 with 1 Axes>"
      ]
     },
     "metadata": {
      "needs_background": "light"
     },
     "output_type": "display_data"
    }
   ],
   "source": [
    "plt.plot(mod,scores,label=\"scores\")\n",
    "plt.show()"
   ]
  },
  {
   "cell_type": "code",
   "execution_count": 86,
   "id": "3f1873e8",
   "metadata": {},
   "outputs": [
    {
     "data": {
      "image/png": "[encoded data removed]",
      "text/plain": [
       "<Figure size 432x288 with 1 Axes>"
      ]
     },
     "metadata": {
      "needs_background": "light"
     },
     "output_type": "display_data"
    }
   ],
   "source": [
    "plt.plot(mod,evs,label='evs')\n",
    "plt.show()"
   ]
  },
  {
   "cell_type": "code",
   "execution_count": 87,
   "id": "458483d4",
   "metadata": {},
   "outputs": [
    {
     "data": {
      "image/png": "[encoded data removed]",
      "text/plain": [
       "<Figure size 432x288 with 1 Axes>"
      ]
     },
     "metadata": {
      "needs_background": "light"
     },
     "output_type": "display_data"
    }
   ],
   "source": [
    "plt.plot(mod,scores,label=\"Scores\")\n",
    "plt.plot(mod,evs,linestyle='dotted',label='Explained Variance Score')\n",
    "plt.legend()\n",
    "plt.show()"
   ]
  },
  {
   "cell_type": "code",
   "execution_count": 88,
   "id": "93fcd0f9",
   "metadata": {},
   "outputs": [
    {
     "data": {
      "image/png": "[encoded data removed]",
      "text/plain": [
       "<Figure size 432x288 with 1 Axes>"
      ]
     },
     "metadata": {
      "needs_background": "light"
     },
     "output_type": "display_data"
    }
   ],
   "source": [
    "plt.plot(mod,mape)\n",
    "plt.show()"
   ]
  },
  {
   "cell_type": "code",
   "execution_count": 89,
   "id": "d3beb454",
   "metadata": {},
   "outputs": [
    {
     "data": {
      "image/png": "[encoded data removed]",
      "text/plain": [
       "<Figure size 432x288 with 1 Axes>"
      ]
     },
     "metadata": {
      "needs_background": "light"
     },
     "output_type": "display_data"
    }
   ],
   "source": [
    "plt.plot(mod,mse)\n",
    "plt.show()"
   ]
  },
  {
   "cell_type": "code",
   "execution_count": 90,
   "id": "deaea592",
   "metadata": {},
   "outputs": [
    {
     "data": {
      "text/plain": [
       "'RF'"
      ]
     },
     "execution_count": 90,
     "metadata": {},
     "output_type": "execute_result"
    }
   ],
   "source": [
    "mod[scores.index(max(scores))]"
   ]
  },
  {
   "cell_type": "code",
   "execution_count": 91,
   "id": "4da2e20f",
   "metadata": {},
   "outputs": [
    {
     "data": {
      "text/plain": [
       "'RF'"
      ]
     },
     "execution_count": 91,
     "metadata": {},
     "output_type": "execute_result"
    }
   ],
   "source": [
    "mod[evs.index(max(evs))]"
   ]
  },
  {
   "cell_type": "code",
   "execution_count": 92,
   "id": "2d269ce1",
   "metadata": {},
   "outputs": [
    {
     "data": {
      "text/plain": [
       "'RF'"
      ]
     },
     "execution_count": 92,
     "metadata": {},
     "output_type": "execute_result"
    }
   ],
   "source": [
    "mod[mape.index(min(mape))]"
   ]
  },
  {
   "cell_type": "code",
   "execution_count": 93,
   "id": "7ac04ad6",
   "metadata": {},
   "outputs": [
    {
     "data": {
      "text/plain": [
       "'RF'"
      ]
     },
     "execution_count": 93,
     "metadata": {},
     "output_type": "execute_result"
    }
   ],
   "source": [
    "mod[mse.index(min(mse))]"
   ]
  },
  {
   "cell_type": "code",
   "execution_count": null,
   "id": "6b67be3d",
   "metadata": {},
   "outputs": [],
   "source": []
  }
 ],
 "metadata": {
  "kernelspec": {
   "display_name": "Python 3 (ipykernel)",
   "language": "python",
   "name": "python3"
  },
  "language_info": {
   "codemirror_mode": {
    "name": "ipython",
    "version": 3
   },
   "file_extension": ".py",
   "mimetype": "text/x-python",
   "name": "python",
   "nbconvert_exporter": "python",
   "pygments_lexer": "ipython3",
   "version": "3.9.12"
  }
 },
 "nbformat": 4,
 "nbformat_minor": 5
}
